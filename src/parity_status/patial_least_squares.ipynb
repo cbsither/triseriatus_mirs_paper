{
 "cells": [
  {
   "cell_type": "markdown",
   "source": [
    "#### Import Data"
   ],
   "metadata": {
    "collapsed": false
   }
  },
  {
   "cell_type": "code",
   "execution_count": null,
   "metadata": {
    "collapsed": true
   },
   "outputs": [],
   "source": [
    "import pandas as pd\n",
    "\n",
    "data_file_path = '../../data'\n",
    "\n",
    "train_df = pd.read_csv(f'{data_file_path}/train_data.csv', index_col=0)\n",
    "test_df = pd.read_csv(f'{data_file_path}/test_data.csv', index_col=0)\n",
    "\n",
    "# drop 's' column\n",
    "\n",
    "train_df = train_df.copy().drop(columns='s')\n",
    "test_df = test_df.copy().drop(columns='s')"
   ]
  },
  {
   "cell_type": "markdown",
   "source": [
    "#### Partial Least Squares"
   ],
   "metadata": {
    "collapsed": false
   },
   "outputs": [
    {
     "data": {
      "text/plain": "                      0         1         2         3         4         5  \\\nr20210419_018  0.015933  0.015533  0.014349  0.016115  0.018983  0.019121   \nr20210416_002  0.014983  0.015010  0.014684  0.016846  0.019723  0.020300   \nr20210419_031  0.017237  0.017088  0.016108  0.016528  0.018114  0.018695   \nr20210427_051  0.014184  0.015062  0.017929  0.018558  0.018838  0.017484   \nr20210419_038  0.015748  0.015887  0.016986  0.016960  0.018829  0.018826   \n...                 ...       ...       ...       ...       ...       ...   \nr20210427_042  0.016651  0.016484  0.015804  0.016450  0.018573  0.019805   \nr20210414_021  0.017348  0.017279  0.017058  0.017342  0.018493  0.018616   \nr20210412_015  0.014383  0.015765  0.018339  0.017213  0.017896  0.018353   \nr20210427_028  0.016471  0.016911  0.017294  0.015560  0.016209  0.017733   \nr20210427_013  0.017222  0.017545  0.016494  0.015857  0.016456  0.017059   \n\n                      6         7         8         9  ...      3341  \\\nr20210419_018  0.017057  0.017289  0.018136  0.017016  ...  0.016747   \nr20210416_002  0.017911  0.017226  0.017545  0.017699  ...  0.017459   \nr20210419_031  0.017441  0.017057  0.017369  0.016670  ...  0.017195   \nr20210427_051  0.016335  0.015896  0.016714  0.017180  ...  0.017041   \nr20210419_038  0.016894  0.015494  0.016873  0.017727  ...  0.016548   \n...                 ...       ...       ...       ...  ...       ...   \nr20210427_042  0.018249  0.017301  0.017241  0.016946  ...  0.017127   \nr20210414_021  0.016668  0.015794  0.016822  0.018059  ...  0.017274   \nr20210412_015  0.017251  0.015847  0.016613  0.017497  ...  0.016898   \nr20210427_028  0.017565  0.016720  0.017349  0.018179  ...  0.016767   \nr20210427_013  0.016754  0.016669  0.017328  0.017414  ...  0.017072   \n\n                   3342      3343      3344      3345      3346      3347  \\\nr20210419_018  0.017073  0.017387  0.017480  0.017386  0.017308  0.017392   \nr20210416_002  0.017182  0.017012  0.016874  0.016957  0.017210  0.017349   \nr20210419_031  0.017185  0.017163  0.017145  0.017222  0.017305  0.017312   \nr20210427_051  0.017173  0.017236  0.017311  0.017485  0.017675  0.017434   \nr20210419_038  0.016762  0.017282  0.017688  0.017793  0.017684  0.017286   \n...                 ...       ...       ...       ...       ...       ...   \nr20210427_042  0.017222  0.017277  0.017206  0.017184  0.017270  0.017361   \nr20210414_021  0.017141  0.017085  0.017064  0.017158  0.017401  0.017507   \nr20210412_015  0.017245  0.017518  0.017404  0.017279  0.017288  0.017285   \nr20210427_028  0.016989  0.017359  0.017512  0.017523  0.017607  0.017547   \nr20210427_013  0.017413  0.017622  0.017376  0.017162  0.017166  0.017205   \n\n                   3348      3349  y  \nr20210419_018  0.017385  0.017225  1  \nr20210416_002  0.017305  0.017239  1  \nr20210419_031  0.017255  0.017237  1  \nr20210427_051  0.017153  0.017217  1  \nr20210419_038  0.017069  0.017238  1  \n...                 ...       ... ..  \nr20210427_042  0.017335  0.017230  1  \nr20210414_021  0.017416  0.017216  0  \nr20210412_015  0.017215  0.017238  0  \nr20210427_028  0.017389  0.017237  1  \nr20210427_013  0.017134  0.017222  1  \n\n[132 rows x 3351 columns]",
      "text/html": "<div>\n<style scoped>\n    .dataframe tbody tr th:only-of-type {\n        vertical-align: middle;\n    }\n\n    .dataframe tbody tr th {\n        vertical-align: top;\n    }\n\n    .dataframe thead th {\n        text-align: right;\n    }\n</style>\n<table border=\"1\" class=\"dataframe\">\n  <thead>\n    <tr style=\"text-align: right;\">\n      <th></th>\n      <th>0</th>\n      <th>1</th>\n      <th>2</th>\n      <th>3</th>\n      <th>4</th>\n      <th>5</th>\n      <th>6</th>\n      <th>7</th>\n      <th>8</th>\n      <th>9</th>\n      <th>...</th>\n      <th>3341</th>\n      <th>3342</th>\n      <th>3343</th>\n      <th>3344</th>\n      <th>3345</th>\n      <th>3346</th>\n      <th>3347</th>\n      <th>3348</th>\n      <th>3349</th>\n      <th>y</th>\n    </tr>\n  </thead>\n  <tbody>\n    <tr>\n      <th>r20210419_018</th>\n      <td>0.015933</td>\n      <td>0.015533</td>\n      <td>0.014349</td>\n      <td>0.016115</td>\n      <td>0.018983</td>\n      <td>0.019121</td>\n      <td>0.017057</td>\n      <td>0.017289</td>\n      <td>0.018136</td>\n      <td>0.017016</td>\n      <td>...</td>\n      <td>0.016747</td>\n      <td>0.017073</td>\n      <td>0.017387</td>\n      <td>0.017480</td>\n      <td>0.017386</td>\n      <td>0.017308</td>\n      <td>0.017392</td>\n      <td>0.017385</td>\n      <td>0.017225</td>\n      <td>1</td>\n    </tr>\n    <tr>\n      <th>r20210416_002</th>\n      <td>0.014983</td>\n      <td>0.015010</td>\n      <td>0.014684</td>\n      <td>0.016846</td>\n      <td>0.019723</td>\n      <td>0.020300</td>\n      <td>0.017911</td>\n      <td>0.017226</td>\n      <td>0.017545</td>\n      <td>0.017699</td>\n      <td>...</td>\n      <td>0.017459</td>\n      <td>0.017182</td>\n      <td>0.017012</td>\n      <td>0.016874</td>\n      <td>0.016957</td>\n      <td>0.017210</td>\n      <td>0.017349</td>\n      <td>0.017305</td>\n      <td>0.017239</td>\n      <td>1</td>\n    </tr>\n    <tr>\n      <th>r20210419_031</th>\n      <td>0.017237</td>\n      <td>0.017088</td>\n      <td>0.016108</td>\n      <td>0.016528</td>\n      <td>0.018114</td>\n      <td>0.018695</td>\n      <td>0.017441</td>\n      <td>0.017057</td>\n      <td>0.017369</td>\n      <td>0.016670</td>\n      <td>...</td>\n      <td>0.017195</td>\n      <td>0.017185</td>\n      <td>0.017163</td>\n      <td>0.017145</td>\n      <td>0.017222</td>\n      <td>0.017305</td>\n      <td>0.017312</td>\n      <td>0.017255</td>\n      <td>0.017237</td>\n      <td>1</td>\n    </tr>\n    <tr>\n      <th>r20210427_051</th>\n      <td>0.014184</td>\n      <td>0.015062</td>\n      <td>0.017929</td>\n      <td>0.018558</td>\n      <td>0.018838</td>\n      <td>0.017484</td>\n      <td>0.016335</td>\n      <td>0.015896</td>\n      <td>0.016714</td>\n      <td>0.017180</td>\n      <td>...</td>\n      <td>0.017041</td>\n      <td>0.017173</td>\n      <td>0.017236</td>\n      <td>0.017311</td>\n      <td>0.017485</td>\n      <td>0.017675</td>\n      <td>0.017434</td>\n      <td>0.017153</td>\n      <td>0.017217</td>\n      <td>1</td>\n    </tr>\n    <tr>\n      <th>r20210419_038</th>\n      <td>0.015748</td>\n      <td>0.015887</td>\n      <td>0.016986</td>\n      <td>0.016960</td>\n      <td>0.018829</td>\n      <td>0.018826</td>\n      <td>0.016894</td>\n      <td>0.015494</td>\n      <td>0.016873</td>\n      <td>0.017727</td>\n      <td>...</td>\n      <td>0.016548</td>\n      <td>0.016762</td>\n      <td>0.017282</td>\n      <td>0.017688</td>\n      <td>0.017793</td>\n      <td>0.017684</td>\n      <td>0.017286</td>\n      <td>0.017069</td>\n      <td>0.017238</td>\n      <td>1</td>\n    </tr>\n    <tr>\n      <th>...</th>\n      <td>...</td>\n      <td>...</td>\n      <td>...</td>\n      <td>...</td>\n      <td>...</td>\n      <td>...</td>\n      <td>...</td>\n      <td>...</td>\n      <td>...</td>\n      <td>...</td>\n      <td>...</td>\n      <td>...</td>\n      <td>...</td>\n      <td>...</td>\n      <td>...</td>\n      <td>...</td>\n      <td>...</td>\n      <td>...</td>\n      <td>...</td>\n      <td>...</td>\n      <td>...</td>\n    </tr>\n    <tr>\n      <th>r20210427_042</th>\n      <td>0.016651</td>\n      <td>0.016484</td>\n      <td>0.015804</td>\n      <td>0.016450</td>\n      <td>0.018573</td>\n      <td>0.019805</td>\n      <td>0.018249</td>\n      <td>0.017301</td>\n      <td>0.017241</td>\n      <td>0.016946</td>\n      <td>...</td>\n      <td>0.017127</td>\n      <td>0.017222</td>\n      <td>0.017277</td>\n      <td>0.017206</td>\n      <td>0.017184</td>\n      <td>0.017270</td>\n      <td>0.017361</td>\n      <td>0.017335</td>\n      <td>0.017230</td>\n      <td>1</td>\n    </tr>\n    <tr>\n      <th>r20210414_021</th>\n      <td>0.017348</td>\n      <td>0.017279</td>\n      <td>0.017058</td>\n      <td>0.017342</td>\n      <td>0.018493</td>\n      <td>0.018616</td>\n      <td>0.016668</td>\n      <td>0.015794</td>\n      <td>0.016822</td>\n      <td>0.018059</td>\n      <td>...</td>\n      <td>0.017274</td>\n      <td>0.017141</td>\n      <td>0.017085</td>\n      <td>0.017064</td>\n      <td>0.017158</td>\n      <td>0.017401</td>\n      <td>0.017507</td>\n      <td>0.017416</td>\n      <td>0.017216</td>\n      <td>0</td>\n    </tr>\n    <tr>\n      <th>r20210412_015</th>\n      <td>0.014383</td>\n      <td>0.015765</td>\n      <td>0.018339</td>\n      <td>0.017213</td>\n      <td>0.017896</td>\n      <td>0.018353</td>\n      <td>0.017251</td>\n      <td>0.015847</td>\n      <td>0.016613</td>\n      <td>0.017497</td>\n      <td>...</td>\n      <td>0.016898</td>\n      <td>0.017245</td>\n      <td>0.017518</td>\n      <td>0.017404</td>\n      <td>0.017279</td>\n      <td>0.017288</td>\n      <td>0.017285</td>\n      <td>0.017215</td>\n      <td>0.017238</td>\n      <td>0</td>\n    </tr>\n    <tr>\n      <th>r20210427_028</th>\n      <td>0.016471</td>\n      <td>0.016911</td>\n      <td>0.017294</td>\n      <td>0.015560</td>\n      <td>0.016209</td>\n      <td>0.017733</td>\n      <td>0.017565</td>\n      <td>0.016720</td>\n      <td>0.017349</td>\n      <td>0.018179</td>\n      <td>...</td>\n      <td>0.016767</td>\n      <td>0.016989</td>\n      <td>0.017359</td>\n      <td>0.017512</td>\n      <td>0.017523</td>\n      <td>0.017607</td>\n      <td>0.017547</td>\n      <td>0.017389</td>\n      <td>0.017237</td>\n      <td>1</td>\n    </tr>\n    <tr>\n      <th>r20210427_013</th>\n      <td>0.017222</td>\n      <td>0.017545</td>\n      <td>0.016494</td>\n      <td>0.015857</td>\n      <td>0.016456</td>\n      <td>0.017059</td>\n      <td>0.016754</td>\n      <td>0.016669</td>\n      <td>0.017328</td>\n      <td>0.017414</td>\n      <td>...</td>\n      <td>0.017072</td>\n      <td>0.017413</td>\n      <td>0.017622</td>\n      <td>0.017376</td>\n      <td>0.017162</td>\n      <td>0.017166</td>\n      <td>0.017205</td>\n      <td>0.017134</td>\n      <td>0.017222</td>\n      <td>1</td>\n    </tr>\n  </tbody>\n</table>\n<p>132 rows × 3351 columns</p>\n</div>"
     },
     "execution_count": 17,
     "metadata": {},
     "output_type": "execute_result"
    }
   ],
   "execution_count": 17
  },
  {
   "cell_type": "code",
   "execution_count": null,
   "outputs": [],
   "source": [
    "from sklearn.cross_decomposition import PLSRegression\n",
    "\n",
    "pls = PLSRegression(n_components=3,\n",
    "                    scale=True,\n",
    "                    max_iter=500,\n",
    "                    tol=1e-9,\n",
    "                    copy=True)\n",
    "\n",
    "pls.fit(X=train_df.copy().drop(columns='y'), y=train_df['y'])\n",
    "\n",
    "# Use the fitted model to make predictions\n",
    "y_pred = pls.predict(test_df.copy().drop(columns='y'))"
   ],
   "metadata": {
    "collapsed": false
   }
  },
  {
   "cell_type": "code",
   "execution_count": null,
   "outputs": [],
   "source": [
    "y_pred[y_pred > 0.5] = 1\n",
    "y_pred[y_pred <= 0.5] = 0"
   ],
   "metadata": {
    "collapsed": false
   }
  },
  {
   "cell_type": "code",
   "execution_count": null,
   "outputs": [],
   "source": [
    "from sklearn.metrics import recall_score, accuracy_score, precision_score, confusion_matrix, f1_score\n",
    "\n",
    "# Calculate metrics\n",
    "cm = confusion_matrix(test_df['y'], y_pred)\n",
    "recall = recall_score(test_df['y'], y_pred)\n",
    "precision = precision_score(test_df['y'], y_pred)\n",
    "accuracy = accuracy_score(test_df['y'], y_pred)\n",
    "f1 = f1_score(test_df['y'], y_pred)"
   ],
   "metadata": {
    "collapsed": false
   }
  },
  {
   "cell_type": "code",
   "execution_count": null,
   "outputs": [],
   "source": [
    "import numpy as np\n",
    "from sklearn.utils import resample\n",
    "\n",
    "# Number of bootstrap samples\n",
    "n_bootstraps = 1000\n",
    "\n",
    "# Create arrays to store bootstrap results\n",
    "recall_scores = []\n",
    "precision_scores = []\n",
    "accuracy_scores = []\n",
    "f1_scores = []\n",
    "\n",
    "# Perform bootstrapping\n",
    "for _ in range(n_bootstraps):\n",
    "    # Resample the data\n",
    "    indices = resample(range(len(test_df['y'])), replace=True)\n",
    "    y_true_resampled = test_df['y'].iloc[indices]\n",
    "    y_pred_resampled = np.array(y_pred)[indices]\n",
    "\n",
    "    # Compute metrics for resampled data\n",
    "    recall_scores.append(recall_score(y_true_resampled, y_pred_resampled))\n",
    "    precision_scores.append(precision_score(y_true_resampled, y_pred_resampled))\n",
    "    accuracy_scores.append(accuracy_score(y_true_resampled, y_pred_resampled))\n",
    "    f1_scores.append(f1_score(y_true_resampled, y_pred_resampled))\n",
    "\n",
    "# Calculate confidence intervals (e.g., 95%)\n",
    "recall_ci = np.percentile(recall_scores, [2.5, 97.5])\n",
    "precision_ci = np.percentile(precision_scores, [2.5, 97.5])\n",
    "accuracy_ci = np.percentile(accuracy_scores, [2.5, 97.5])\n",
    "f1_ci = np.percentile(f1_scores, [2.5, 97.5])\n",
    "\n",
    "# Print confidence intervals\n",
    "print(f\"Recall CI: {recall_ci}\")\n",
    "print(f\"Precision CI: {precision_ci}\")\n",
    "print(f\"Accuracy CI: {accuracy_ci}\")\n",
    "print(f\"F1 Score CI: {f1_ci}\")\n",
    "# Create a table for metrics\n",
    "metrics_table = pd.DataFrame({\n",
    "    \"Metric\": [\"Recall/Sensitivity\", \"Precision/Specificity\", \"Accuracy\", \"F1 Score\"],\n",
    "    \"Value\": [recall, precision, accuracy, f1],\n",
    "    \"CI (2.5%)\": [recall_ci[0], precision_ci[0], accuracy_ci[0], f1_ci[0]],\n",
    "    \"CI (97.5%)\": [recall_ci[1], precision_ci[1], accuracy_ci[1], f1_ci[1]]\n",
    "})\n",
    "\n",
    "# Display the table\n",
    "metrics_table"
   ],
   "metadata": {
    "collapsed": false
   }
  },
  {
   "cell_type": "code",
   "execution_count": null,
   "outputs": [],
   "source": [
    "import matplotlib.pyplot as plt\n",
    "import numpy as np\n",
    "\n",
    "# Extract the PLS scores (X-scores)\n",
    "X_scores = pls.x_scores_  # shape: (n_samples, n_components)\n",
    "\n",
    "# Let's pick the first two components for 2D visualization\n",
    "comp1 = X_scores[:, 0]\n",
    "comp2 = X_scores[:, 1]\n",
    "\n",
    "# If you'd like to color the samples by their true y values:\n",
    "y_values = train_df['y'].values\n",
    "\n",
    "# Scatter plot\n",
    "plt.figure(figsize=(7, 5))\n",
    "scatter = plt.scatter(comp1, comp2, c=y_values, cmap='viridis', edgecolor='k')\n",
    "plt.xlabel('PLS Component 1')\n",
    "plt.ylabel('PLS Component 2')\n",
    "plt.title('PLS Scores Plot (Components 1 and 2)')\n",
    "\n",
    "# Optional colorbar if y is continuous or numeric\n",
    "plt.colorbar(scatter, label='y')\n",
    "\n",
    "plt.show()"
   ],
   "metadata": {
    "collapsed": false
   }
  },
  {
   "cell_type": "code",
   "execution_count": null,
   "outputs": [],
   "source": [
    "x_loadings = pls.x_loadings_  # shape: (n_features, n_components)\n",
    "\n",
    "print(\"Shape of x_loadings:\", x_loadings.shape)\n",
    "print(\"Loadings for component 1:\", x_loadings[:, 0])\n",
    "print(\"Loadings for component 2:\", x_loadings[:, 1])\n",
    "\n",
    "# Suppose your original features are in train_df.columns.drop('y')\n",
    "feature_names = train_df.columns.drop('y')\n",
    "\n",
    "fig, axes = plt.subplots(1, 2, figsize=(12, 4))\n",
    "\n",
    "axes[0].bar(range(len(feature_names)), x_loadings[:, 0], color='skyblue', edgecolor='k')\n",
    "axes[0].set_xticks(range(len(feature_names)))\n",
    "axes[0].set_xticklabels(feature_names, rotation=90)\n",
    "axes[0].set_title('Loadings on PLS Component 1')\n",
    "axes[0].set_ylabel('Loading')\n",
    "\n",
    "axes[1].bar(range(len(feature_names)), x_loadings[:, 1], color='lightgreen', edgecolor='k')\n",
    "axes[1].set_xticks(range(len(feature_names)))\n",
    "axes[1].set_xticklabels(feature_names, rotation=90)\n",
    "axes[1].set_title('Loadings on PLS Component 2')\n",
    "axes[1].set_ylabel('Loading')\n",
    "\n",
    "plt.tight_layout()\n",
    "plt.show()"
   ],
   "metadata": {
    "collapsed": false
   }
  },
  {
   "cell_type": "code",
   "execution_count": null,
   "outputs": [
    {
     "ename": "AttributeError",
     "evalue": "'PLSRegression' object has no attribute 'coef_'",
     "output_type": "error",
     "traceback": [
      "\u001B[1;31m---------------------------------------------------------------------------\u001B[0m",
      "\u001B[1;31mAttributeError\u001B[0m                            Traceback (most recent call last)",
      "Cell \u001B[1;32mIn[45], line 2\u001B[0m\n\u001B[0;32m      1\u001B[0m \u001B[38;5;66;03m# 1) Extract the final regression coefficients (slopes) from the PLS model\u001B[39;00m\n\u001B[1;32m----> 2\u001B[0m coefs \u001B[38;5;241m=\u001B[39m \u001B[43mpls\u001B[49m\u001B[38;5;241;43m.\u001B[39;49m\u001B[43mcoef_\u001B[49m\u001B[38;5;241m.\u001B[39mravel()  \u001B[38;5;66;03m# shape (n_features,)\u001B[39;00m\n\u001B[0;32m      4\u001B[0m \u001B[38;5;66;03m# 2) Get the feature names (assuming train_df has columns for your predictors + 'y')\u001B[39;00m\n\u001B[0;32m      5\u001B[0m feature_names \u001B[38;5;241m=\u001B[39m train_df\u001B[38;5;241m.\u001B[39mcolumns\u001B[38;5;241m.\u001B[39mdrop(\u001B[38;5;124m'\u001B[39m\u001B[38;5;124my\u001B[39m\u001B[38;5;124m'\u001B[39m)\n",
      "\u001B[1;31mAttributeError\u001B[0m: 'PLSRegression' object has no attribute 'coef_'"
     ]
    }
   ],
   "source": [
    "# 1) Extract the final regression coefficients (slopes) from the PLS model\n",
    "coefs = pls.coef_.ravel()  # shape (n_features,)\n",
    "\n",
    "# 2) Get the feature names (assuming train_df has columns for your predictors + 'y')\n",
    "feature_names = train_df.columns.drop('y')\n",
    "\n",
    "# 3) Make a bar plot of the regression coefficients\n",
    "plt.figure(figsize=(8, 4))\n",
    "plt.bar(range(len(feature_names)), coefs, color='skyblue', edgecolor='k')\n",
    "plt.xticks(range(len(feature_names)), feature_names, rotation=90)\n",
    "plt.ylabel('Coefficient (Slope)')\n",
    "plt.title('PLS Regression Coefficients')\n",
    "plt.tight_layout()\n",
    "plt.show()"
   ],
   "metadata": {
    "collapsed": false,
    "ExecuteTime": {
     "end_time": "2025-01-20T02:48:02.189889700Z",
     "start_time": "2025-01-20T02:48:01.297694700Z"
    }
   }
  },
  {
   "cell_type": "code",
   "execution_count": null,
   "outputs": [],
   "source": [
    "import matplotlib.pyplot as plt\n",
    "\n",
    "# Extract the PLS scores (X-scores)\n",
    "X_scores = pls.x_scores_  # shape: (n_samples, n_components)\n",
    "\n",
    "# Let's pick the first two components for 2D visualization\n",
    "comp1 = X_scores[:, 0]\n",
    "comp2 = X_scores[:, 1]\n",
    "\n",
    "# If you'd like to color the samples by their true y values:\n",
    "y_values = train_df['y'].values\n",
    "\n",
    "# Scatter plot\n",
    "plt.figure(figsize=(7, 5))\n",
    "scatter = plt.scatter(comp1, comp2, c=y_values, cmap='viridis', edgecolor='k')\n",
    "plt.xlabel('PLS Component 1')\n",
    "plt.ylabel('PLS Component 2')\n",
    "plt.title('PLS Scores Plot (Components 1 and 2)')\n",
    "\n",
    "# Optional colorbar if y is continuous or numeric\n",
    "plt.colorbar(scatter, label='y')\n",
    "\n",
    "plt.show()"
   ],
   "metadata": {
    "collapsed": false
   }
  },
  {
   "cell_type": "code",
   "execution_count": null,
   "outputs": [],
   "source": [
    "from sklearn.linear_model import LogisticRegression\n",
    "\n",
    "# fit a logistic regression to PLS scores to find a decision boundary\n",
    "\n",
    "lr = LogisticRegression(penalty='l2',\n",
    "                        dual=False,\n",
    "                        tol=0.0001,\n",
    "                        C=1.0,\n",
    "                        fit_intercept=True,\n",
    "                        intercept_scaling=1,\n",
    "                        class_weight=None,\n",
    "                        random_state=None,\n",
    "                        solver='lbfgs',\n",
    "                        max_iter=100,\n",
    "                        multi_class='deprecated',\n",
    "                        verbose=0,\n",
    "                        warm_start=False,\n",
    "                        n_jobs=None,\n",
    "                        l1_ratio=None)\n",
    "\n",
    "y_pred_train = pls.predict(train_df.copy().drop(columns='y'))\n",
    "lr.fit(X=y_pred_train.reshape(-1,1), y=train_df['y'])"
   ],
   "metadata": {
    "collapsed": false
   }
  },
  {
   "cell_type": "code",
   "execution_count": null,
   "outputs": [],
   "source": [
    "y_pred_pls = pls.predict(test_df.copy().drop(columns='y'))\n",
    "y_pred = lr.predict(y_pred_pls.reshape(-1,1))"
   ],
   "metadata": {
    "collapsed": false
   }
  },
  {
   "cell_type": "code",
   "execution_count": null,
   "outputs": [],
   "source": [
    "import numpy as np\n",
    "import matplotlib.pyplot as plt\n",
    "\n",
    "# 1) Extract your single feature (PLS scores) and true labels\n",
    "feature = y_pred_pls.reshape(-1)     # shape (n_samples,)\n",
    "true_labels = test_df['y'].values    # shape (n_samples,)\n",
    "\n",
    "# 2) Sort by the feature so the logistic curve is plotted smoothly\n",
    "sorted_indices = np.argsort(feature)\n",
    "feature_sorted = feature[sorted_indices]\n",
    "true_labels_sorted = true_labels[sorted_indices]\n",
    "\n",
    "# 3) Predicted probability of class=1 from the logistic regression\n",
    "y_prob = lr.predict_proba(feature_sorted.reshape(-1, 1))[:, 1]\n",
    "\n",
    "# 4) Plot the true labels as a scatter (0 or 1) vs. feature\n",
    "plt.scatter(feature_sorted, true_labels_sorted,\n",
    "            label='True Labels (0/1)', color='blue')\n",
    "\n",
    "# 5) Plot the logistic curve (predicted probability) as a red line\n",
    "plt.plot(feature_sorted, y_prob,\n",
    "         color='red', label='Predicted Probability (Class=1)')\n",
    "\n",
    "# 7) Calculate and plot the vertical decision boundary in feature space\n",
    "w0 = lr.intercept_[0]        # intercept\n",
    "w1 = lr.coef_[0, 0]          # coefficient for the single feature\n",
    "x_boundary = -w0 / w1        # solve w0 + w1*x = 0\n",
    "\n",
    "plt.axvline(x=x_boundary, color='magenta', linestyle='--',\n",
    "            label=f\"Decision Boundary (x = {x_boundary:.2f})\")\n",
    "\n",
    "# 8) Labels, legend, and show\n",
    "plt.xlabel('Single Feature (PLS Score)')\n",
    "plt.ylabel('Probability of Class=1')\n",
    "plt.title('1D Logistic Regression: Explicit Decision Boundary')\n",
    "plt.legend()\n",
    "plt.show()\n"
   ],
   "metadata": {
    "collapsed": false
   }
  },
  {
   "cell_type": "code",
   "execution_count": null,
   "outputs": [],
   "source": [
    "from sklearn.metrics import recall_score, accuracy_score, precision_score, confusion_matrix, f1_score\n",
    "\n",
    "# Calculate metrics\n",
    "cm = confusion_matrix(test_df['y'], y_pred)\n",
    "recall = recall_score(test_df['y'], y_pred)\n",
    "precision = precision_score(test_df['y'], y_pred)\n",
    "accuracy = accuracy_score(test_df['y'], y_pred)\n",
    "f1 = f1_score(test_df['y'], y_pred)"
   ],
   "metadata": {
    "collapsed": false
   }
  },
  {
   "cell_type": "code",
   "execution_count": null,
   "outputs": [],
   "source": [
    "\n",
    "import numpy as np\n",
    "from sklearn.utils import resample\n",
    "\n",
    "# Number of bootstrap samples\n",
    "n_bootstraps = 1000\n",
    "\n",
    "# Create arrays to store bootstrap results\n",
    "recall_scores = []\n",
    "precision_scores = []\n",
    "accuracy_scores = []\n",
    "f1_scores = []\n",
    "\n",
    "# Perform bootstrapping\n",
    "for _ in range(n_bootstraps):\n",
    "    # Resample the data\n",
    "    indices = resample(range(len(test_df['y'])), replace=True)\n",
    "    y_true_resampled = test_df['y'].iloc[indices]\n",
    "    y_pred_resampled = np.array(y_pred)[indices]\n",
    "\n",
    "    # Compute metrics for resampled data\n",
    "    recall_scores.append(recall_score(y_true_resampled, y_pred_resampled))\n",
    "    precision_scores.append(precision_score(y_true_resampled, y_pred_resampled))\n",
    "    accuracy_scores.append(accuracy_score(y_true_resampled, y_pred_resampled))\n",
    "    f1_scores.append(f1_score(y_true_resampled, y_pred_resampled))\n",
    "\n",
    "# Calculate confidence intervals (e.g., 95%)\n",
    "recall_ci = np.percentile(recall_scores, [2.5, 97.5])\n",
    "precision_ci = np.percentile(precision_scores, [2.5, 97.5])\n",
    "accuracy_ci = np.percentile(accuracy_scores, [2.5, 97.5])\n",
    "f1_ci = np.percentile(f1_scores, [2.5, 97.5])\n",
    "\n",
    "# Print confidence intervals\n",
    "print(f\"Recall CI: {recall_ci}\")\n",
    "print(f\"Precision CI: {precision_ci}\")\n",
    "print(f\"Accuracy CI: {accuracy_ci}\")\n",
    "print(f\"F1 Score CI: {f1_ci}\")\n",
    "# Create a table for metrics\n",
    "metrics_table = pd.DataFrame({\n",
    "    \"Metric\": [\"Recall/Sensitivity\", \"Precision/Specificity\", \"Accuracy\", \"F1 Score\"],\n",
    "    \"Value\": [recall, precision, accuracy, f1],\n",
    "    \"CI (2.5%)\": [recall_ci[0], precision_ci[0], accuracy_ci[0], f1_ci[0]],\n",
    "    \"CI (97.5%)\": [recall_ci[1], precision_ci[1], accuracy_ci[1], f1_ci[1]]\n",
    "})\n",
    "\n",
    "# Display the table\n",
    "metrics_table"
   ],
   "metadata": {
    "collapsed": false
   }
  },
  {
   "cell_type": "markdown",
   "source": [
    "### VIP Analysis"
   ],
   "metadata": {
    "collapsed": false
   }
  },
  {
   "cell_type": "code",
   "execution_count": null,
   "outputs": [],
   "source": [],
   "metadata": {
    "collapsed": false
   }
  },
  {
   "cell_type": "code",
   "execution_count": null,
   "outputs": [],
   "source": [
    "import numpy as np\n",
    "\n",
    "def compute_vip(pls, X):\n",
    "    \"\"\"\n",
    "    Compute the Variable Importance in Projection (VIP) scores for each predictor (wavenumber).\n",
    "\n",
    "    Parameters\n",
    "    ----------\n",
    "    pls : trained PLSRegression object\n",
    "        A fitted scikit-learn PLSRegression model.\n",
    "    X : ndarray or pandas dataframe, shape (n_samples, n_features)\n",
    "        Training data on which the model was fit (or at least the same shape/features).\n",
    "\n",
    "    Returns\n",
    "    -------\n",
    "    vip_scores : ndarray of shape (n_features,)\n",
    "        VIP score for each feature (wavenumber).\n",
    "    \"\"\"\n",
    "    # Extract the necessary parameters from the PLS model\n",
    "    T = pls.x_scores_           # (n_samples, n_components)\n",
    "    W = pls.x_weights_          # (n_features, n_components)\n",
    "    Q = pls.y_loadings_.ravel() # (n_components,)\n",
    "\n",
    "    # Number of features and components\n",
    "    p, A = W.shape\n",
    "\n",
    "    # Sum of squares explained by each component for Y\n",
    "    # SS(t_h * q_h) ~ sum over all samples of (t_h * q_h)^2\n",
    "    # We can do that by (T[:,h] * Q[h])^2 and summing\n",
    "    SS = np.sum((T * Q)**2, axis=0)  # shape (n_components,)\n",
    "    total_SS = np.sum(SS)           # total sum of squares\n",
    "\n",
    "    # Initialize VIP array\n",
    "    vip_scores = np.zeros(p)\n",
    "\n",
    "    # For each component h\n",
    "    for h in range(A):\n",
    "        # Weight for feature j on component h = W[j,h]\n",
    "        # Contribution factor = (T[:,h] * Q[h])^2\n",
    "        # So we add the share of the SS explained by component h, scaled by W[j,h]^2\n",
    "        vip_scores += (SS[h] * (W[:, h]**2)) / total_SS\n",
    "\n",
    "    # Multiply by p and take the square root\n",
    "    vip_scores = np.sqrt(p * vip_scores)\n",
    "    return vip_scores\n"
   ],
   "metadata": {
    "collapsed": false
   }
  },
  {
   "cell_type": "code",
   "execution_count": null,
   "outputs": [],
   "source": [
    "# Example: wavenumbers going from 4000 cm^-1 down to 650 cm^-1\n",
    "# (or the reverse order; you just need to match your data)\n",
    "wavenumbers = np.linspace(4000, 650, num=train_df.shape[1]-1)\n",
    "\n",
    "vip = compute_vip(pls, train_df.copy().drop(columns='y'))"
   ],
   "metadata": {
    "collapsed": false
   }
  },
  {
   "cell_type": "code",
   "execution_count": null,
   "outputs": [],
   "source": [
    "def sliding_window_smooth(values, window_size=20):\n",
    "    \"\"\"\n",
    "    Smooth values with a simple moving average over `window_size`.\n",
    "    \"\"\"\n",
    "    kernel = np.ones(window_size) / window_size\n",
    "    return np.convolve(values, kernel, mode='same')\n",
    "\n",
    "# Smooth VIP with a window of 20 features\n",
    "window_size = 11\n",
    "vip_smoothed = sliding_window_smooth(vip, window_size=window_size)\n",
    "\n"
   ],
   "metadata": {
    "collapsed": false
   }
  },
  {
   "cell_type": "code",
   "execution_count": null,
   "outputs": [],
   "source": [
    "np.mean(train_df.copy().drop(columns='y'), axis=0)"
   ],
   "metadata": {
    "collapsed": false
   }
  },
  {
   "cell_type": "code",
   "execution_count": null,
   "outputs": [],
   "source": [
    "plt.figure(figsize=(10, 6))\n",
    "\n",
    "plt.plot(wavenumbers, vip, label='VIP (raw)')\n",
    "plt.plot(wavenumbers, vip_smoothed, label=f'VIP (smoothed, window={window_size})', linewidth=2)\n",
    "plt.axhline(y=1.0, linestyle='dashed', color='black')\n",
    "plt.axhline(y=0.8, linestyle='dotted', color='black')\n",
    "\n",
    "plt.gca().invert_xaxis()  # Often MIR spectra are plotted from high to low wavenumber\n",
    "plt.xlabel(\"Wavenumber (cm$^{-1}$)\")\n",
    "plt.ylabel(\"VIP Score\")\n",
    "plt.title(\"Variable Importance in Projection (VIP) Across Wavenumbers\")\n",
    "plt.legend()\n",
    "plt.show()"
   ],
   "metadata": {
    "collapsed": false
   }
  },
  {
   "cell_type": "code",
   "execution_count": null,
   "outputs": [],
   "source": [
    "fig, axs = plt.subplots(2)#, sharex=True)\n",
    "\n",
    "axs[0].plot(wavenumbers, vip, label='VIP (raw)')\n",
    "axs[0].plot(wavenumbers, vip_smoothed, label=f'VIP (smoothed, window={window_size})', linewidth=2)\n",
    "\n",
    "axs[1].plot(wavenumbers, np.mean(train_df.copy().drop(columns='y'), axis=0))\n",
    "\n",
    "plt.gca().invert_xaxis()  # Often MIR spectra are plotted from high to low wavenumber\n",
    "plt.xlabel(\"Wavenumber (cm$^{-1}$)\")\n",
    "plt.ylabel(\"VIP Score\")\n",
    "plt.title(\"Variable Importance in Projection (VIP) Across Wavenumbers\")\n",
    "plt.legend()\n",
    "plt.show()\n"
   ],
   "metadata": {
    "collapsed": false
   }
  },
  {
   "cell_type": "code",
   "execution_count": null,
   "outputs": [],
   "source": [
    "def subset_dataframe_by_vip(df, feature_cols, vip_scores, threshold=1.0):\n",
    "    \"\"\"\n",
    "    Subset a DataFrame (which may contain extra, non-spectral columns)\n",
    "    by keeping only those spectral columns whose VIP score is >= threshold,\n",
    "    while retaining any non-spectral columns.\n",
    "\n",
    "    Parameters\n",
    "    ----------\n",
    "    df : pd.DataFrame\n",
    "        The entire DataFrame containing both spectral and non-spectral columns.\n",
    "    feature_cols : list of str\n",
    "        The column names in df that correspond exactly (and in the same order)\n",
    "        to the VIP scores.\n",
    "    vip_scores : array-like of shape (len(feature_cols),)\n",
    "        The VIP scores for each spectral column in feature_cols.\n",
    "    threshold : float, optional (default=1.0)\n",
    "        The VIP threshold. Only spectral columns with VIP >= threshold are kept.\n",
    "\n",
    "    Returns\n",
    "    -------\n",
    "    df_subset : pd.DataFrame\n",
    "        A DataFrame that:\n",
    "          - Retains all non-spectral columns from df\n",
    "          - Keeps only the spectral columns whose VIP >= threshold\n",
    "    \"\"\"\n",
    "    # Convert vip_scores to a NumPy array for easier masking\n",
    "    vip_scores = np.asarray(vip_scores)\n",
    "\n",
    "    # Check that feature_cols and vip_scores align in length\n",
    "    if len(feature_cols) != len(vip_scores):\n",
    "        raise ValueError(\n",
    "            f\"Number of feature_cols ({len(feature_cols)}) must match \"\n",
    "            f\"length of vip_scores ({len(vip_scores)}).\"\n",
    "        )\n",
    "\n",
    "    # Determine which spectral columns pass the VIP threshold\n",
    "    keep_mask = (vip_scores >= threshold)\n",
    "    kept_spectral_cols = [col for col, keep in zip(feature_cols, keep_mask) if keep]\n",
    "\n",
    "    # Collect any columns in df that are NOT in feature_cols (e.g., 'y', IDs, etc.)\n",
    "    non_spectral_cols = [col for col in df.columns if col not in feature_cols]\n",
    "\n",
    "    # Final columns to keep = all non-spectral columns + the kept spectral columns\n",
    "    cols_to_keep = non_spectral_cols + kept_spectral_cols\n",
    "\n",
    "    # Subset the original df\n",
    "    df_subset = df[cols_to_keep]\n",
    "\n",
    "    return df_subset\n"
   ],
   "metadata": {
    "collapsed": false
   }
  },
  {
   "cell_type": "code",
   "execution_count": null,
   "outputs": [],
   "source": [
    "# Example: Suppose your training DataFrame is train_df\n",
    "# and we have a separate list of spectral columns we used for the PLS model\n",
    "# (excluding 'y' or any other extra columns).\n",
    "feature_cols = [c for c in train_df.columns if c not in ['y']]\n",
    "\n",
    "# 'vip' is the array of VIP scores computed in exactly that order\n",
    "# e.g. vip[i] corresponds to feature_cols[i].\n",
    "\n",
    "df_train_subset = subset_dataframe_by_vip(\n",
    "    df=train_df,\n",
    "    feature_cols=feature_cols,\n",
    "    vip_scores=vip_smoothed,\n",
    "    threshold=0.8\n",
    ")\n",
    "\n",
    "df_test_subset = subset_dataframe_by_vip(\n",
    "    df=test_df,\n",
    "    feature_cols=feature_cols,\n",
    "    vip_scores=vip_smoothed,\n",
    "    threshold=0.8\n",
    ")\n"
   ],
   "metadata": {
    "collapsed": false
   }
  },
  {
   "cell_type": "code",
   "execution_count": null,
   "outputs": [],
   "source": [
    "pls = PLSRegression(n_components=3,\n",
    "                    scale=True,\n",
    "                    max_iter=1000,\n",
    "                    tol=1e-9,\n",
    "                    copy=True)\n",
    "\n",
    "pls.fit(X=df_train_subset.copy().drop(columns='y'), y=df_train_subset['y'])\n",
    "y_pred = pls.predict(df_test_subset.copy().drop(columns='y'))"
   ],
   "metadata": {
    "collapsed": false
   }
  },
  {
   "cell_type": "code",
   "execution_count": null,
   "outputs": [],
   "source": [
    "y_pred[y_pred > 0.5] = 1\n",
    "y_pred[y_pred <= 0.5] = 0\n",
    "\n",
    "# Calculate metrics\n",
    "cm = confusion_matrix(df_test_subset['y'], y_pred)\n",
    "recall = recall_score(df_test_subset['y'], y_pred)\n",
    "precision = precision_score(df_test_subset['y'], y_pred)\n",
    "accuracy = accuracy_score(df_test_subset['y'], y_pred)\n",
    "f1 = f1_score(df_test_subset['y'], y_pred)"
   ],
   "metadata": {
    "collapsed": false
   }
  },
  {
   "cell_type": "code",
   "execution_count": null,
   "outputs": [],
   "source": [
    "\n",
    "# Number of bootstrap samples\n",
    "n_bootstraps = 1000\n",
    "\n",
    "# Create arrays to store bootstrap results\n",
    "recall_scores = []\n",
    "precision_scores = []\n",
    "accuracy_scores = []\n",
    "f1_scores = []\n",
    "\n",
    "# Perform bootstrapping\n",
    "for _ in range(n_bootstraps):\n",
    "    # Resample the data\n",
    "    indices = resample(range(len(df_test_subset['y'])), replace=True)\n",
    "    y_true_resampled = df_test_subset['y'].iloc[indices]\n",
    "    y_pred_resampled = np.array(y_pred)[indices]\n",
    "\n",
    "    # Compute metrics for resampled data\n",
    "    recall_scores.append(recall_score(y_true_resampled, y_pred_resampled))\n",
    "    precision_scores.append(precision_score(y_true_resampled, y_pred_resampled))\n",
    "    accuracy_scores.append(accuracy_score(y_true_resampled, y_pred_resampled))\n",
    "    f1_scores.append(f1_score(y_true_resampled, y_pred_resampled))\n",
    "\n",
    "# Calculate confidence intervals (e.g., 95%)\n",
    "recall_ci = np.percentile(recall_scores, [2.5, 97.5])\n",
    "precision_ci = np.percentile(precision_scores, [2.5, 97.5])\n",
    "accuracy_ci = np.percentile(accuracy_scores, [2.5, 97.5])\n",
    "f1_ci = np.percentile(f1_scores, [2.5, 97.5])\n",
    "\n",
    "# Print confidence intervals\n",
    "print(f\"Recall CI: {recall_ci}\")\n",
    "print(f\"Precision CI: {precision_ci}\")\n",
    "print(f\"Accuracy CI: {accuracy_ci}\")\n",
    "print(f\"F1 Score CI: {f1_ci}\")\n",
    "# Create a table for metrics\n",
    "metrics_table2 = pd.DataFrame({\n",
    "    \"Metric\": [\"Recall/Sensitivity\", \"Precision/Specificity\", \"Accuracy\", \"F1 Score\"],\n",
    "    \"Value\": [recall, precision, accuracy, f1],\n",
    "    \"CI (2.5%)\": [recall_ci[0], precision_ci[0], accuracy_ci[0], f1_ci[0]],\n",
    "    \"CI (97.5%)\": [recall_ci[1], precision_ci[1], accuracy_ci[1], f1_ci[1]]\n",
    "})\n",
    "\n",
    "# Display the table\n",
    "metrics_table2"
   ],
   "metadata": {
    "collapsed": false
   }
  },
  {
   "cell_type": "code",
   "execution_count": null,
   "outputs": [],
   "source": [
    "metrics_table"
   ],
   "metadata": {
    "collapsed": false
   }
  },
  {
   "cell_type": "code",
   "execution_count": null,
   "outputs": [],
   "source": [
    "# Example: Suppose your training DataFrame is train_df\n",
    "# and we have a separate list of spectral columns we used for the PLS model\n",
    "# (excluding 'y' or any other extra columns).\n",
    "#feature_cols = [c for c in train_df.columns if c not in ['y']]\n",
    "\n",
    "# 'vip' is the array of VIP scores computed in exactly that order\n",
    "# e.g. vip[i] corresponds to feature_cols[i].\n",
    "\n",
    "train_df2 = train_df.drop(columns=[str(float(3100+i)) for i in range(0,900)])\n",
    "test_df2 = test_df.drop(columns=[str(float(3100+i)) for i in range(0,900)])\n",
    "feature_cols2 = [c for c in train_df2.columns if c not in ['y']]"
   ],
   "metadata": {
    "collapsed": false
   }
  },
  {
   "cell_type": "code",
   "execution_count": null,
   "outputs": [],
   "source": [
    "pls2 = PLSRegression(n_components=3,\n",
    "                    scale=True,\n",
    "                    max_iter=10000,\n",
    "                    tol=1e-9,\n",
    "                    copy=True)\n",
    "\n",
    "pls2.fit(X=train_df2.copy().drop(columns='y'), y=train_df2['y'])"
   ],
   "metadata": {
    "collapsed": false
   }
  },
  {
   "cell_type": "code",
   "execution_count": null,
   "outputs": [],
   "source": [
    "vip2 = compute_vip(pls2, train_df2.copy().drop(columns='y'))\n",
    "\n",
    "window_size = 20\n",
    "vip_smoothed2 = sliding_window_smooth(vip2, window_size=window_size)\n"
   ],
   "metadata": {
    "collapsed": false
   }
  },
  {
   "cell_type": "code",
   "execution_count": null,
   "outputs": [],
   "source": [
    "vip_smoothed2"
   ],
   "metadata": {
    "collapsed": false
   }
  },
  {
   "cell_type": "code",
   "execution_count": null,
   "outputs": [],
   "source": [
    "df_train_subset2 = subset_dataframe_by_vip(\n",
    "    df=train_df2,\n",
    "    feature_cols=feature_cols2,\n",
    "    vip_scores=vip_smoothed2,\n",
    "    threshold=0.7\n",
    ")\n",
    "\n",
    "df_test_subset2 = subset_dataframe_by_vip(\n",
    "    df=test_df2,\n",
    "    feature_cols=feature_cols2,\n",
    "    vip_scores=vip_smoothed2,\n",
    "    threshold=0.7\n",
    ")"
   ],
   "metadata": {
    "collapsed": false
   }
  },
  {
   "cell_type": "code",
   "execution_count": null,
   "outputs": [],
   "source": [
    "from sklearn.model_selection import cross_val_score\n",
    "from sklearn.ensemble import StackingClassifier\n",
    "from sklearn.naive_bayes import GaussianNB\n",
    "\n",
    "\n",
    "\n",
    "estimators = [('pls', PLSRegression(n_components=3,\n",
    "                    scale=True,\n",
    "                    max_iter=10000,\n",
    "                    tol=1e-11,\n",
    "                    copy=True)),\n",
    "              ('gnb', GaussianNB(priors=[0.5, 0.5]))]\n",
    "\n",
    "clf = StackingClassifier(\n",
    "    estimators=estimators, final_estimator=LogisticRegression())\n",
    "\n",
    "clf.fit(X=df_train_subset2.copy().drop(columns='y'), y=df_train_subset2['y'])\n",
    "\n",
    "scores = cross_val_score(clf,\n",
    "                         X=df_test_subset2.copy().drop(columns='y'),\n",
    "                         y=df_test_subset2['y'], cv=5, scoring='accuracy')\n",
    "scores"
   ],
   "metadata": {
    "collapsed": false
   }
  },
  {
   "cell_type": "code",
   "execution_count": null,
   "outputs": [],
   "source": [
    "y_pred = clf.predict(df_test_subset2.copy().drop(columns='y'))"
   ],
   "metadata": {
    "collapsed": false
   }
  },
  {
   "cell_type": "code",
   "execution_count": null,
   "outputs": [],
   "source": [
    "\n",
    "\"\"\"pls3 = PLSRegression(n_components=3,\n",
    "                    scale=True,\n",
    "                    max_iter=10000,\n",
    "                    tol=1e-11,\n",
    "                    copy=True)\n",
    "\n",
    "pls3.fit(X=df_train_subset2.copy().drop(columns='y'), y=df_train_subset2['y'])\n",
    "y_pred = pls3.predict(df_test_subset2.copy().drop(columns='y'))\n",
    "y_pred[y_pred > 0.5] = 1\n",
    "y_pred[y_pred <= 0.5] = 0\"\"\""
   ],
   "metadata": {
    "collapsed": false
   }
  },
  {
   "cell_type": "code",
   "execution_count": null,
   "outputs": [],
   "source": [
    "\n",
    "# Calculate metrics\n",
    "cm = confusion_matrix(df_test_subset2['y'], y_pred)\n",
    "recall = recall_score(df_test_subset2['y'], y_pred)\n",
    "precision = precision_score(df_test_subset2['y'], y_pred)\n",
    "accuracy = accuracy_score(df_test_subset2['y'], y_pred)\n",
    "f1 = f1_score(df_test_subset2['y'], y_pred)\n",
    "\n",
    "# Number of bootstrap samples\n",
    "n_bootstraps = 1000\n",
    "\n",
    "# Create arrays to store bootstrap results\n",
    "recall_scores = []\n",
    "precision_scores = []\n",
    "accuracy_scores = []\n",
    "f1_scores = []\n",
    "\n",
    "# Perform bootstrapping\n",
    "for _ in range(n_bootstraps):\n",
    "    # Resample the data\n",
    "    indices = resample(range(len(df_test_subset2['y'])), replace=True)\n",
    "    y_true_resampled = df_test_subset2['y'].iloc[indices]\n",
    "    y_pred_resampled = np.array(y_pred)[indices]\n",
    "\n",
    "    # Compute metrics for resampled data\n",
    "    recall_scores.append(recall_score(y_true_resampled, y_pred_resampled))\n",
    "    precision_scores.append(precision_score(y_true_resampled, y_pred_resampled))\n",
    "    accuracy_scores.append(accuracy_score(y_true_resampled, y_pred_resampled))\n",
    "    f1_scores.append(f1_score(y_true_resampled, y_pred_resampled))\n",
    "\n",
    "# Calculate confidence intervals (e.g., 95%)\n",
    "recall_ci = np.percentile(recall_scores, [2.5, 97.5])\n",
    "precision_ci = np.percentile(precision_scores, [2.5, 97.5])\n",
    "accuracy_ci = np.percentile(accuracy_scores, [2.5, 97.5])\n",
    "f1_ci = np.percentile(f1_scores, [2.5, 97.5])\n",
    "\n",
    "# Print confidence intervals\n",
    "print(f\"Recall CI: {recall_ci}\")\n",
    "print(f\"Precision CI: {precision_ci}\")\n",
    "print(f\"Accuracy CI: {accuracy_ci}\")\n",
    "print(f\"F1 Score CI: {f1_ci}\")\n",
    "# Create a table for metrics\n",
    "metrics_table2 = pd.DataFrame({\n",
    "    \"Metric\": [\"Recall/Sensitivity\", \"Precision/Specificity\", \"Accuracy\", \"F1 Score\"],\n",
    "    \"Value\": [recall, precision, accuracy, f1],\n",
    "    \"CI (2.5%)\": [recall_ci[0], precision_ci[0], accuracy_ci[0], f1_ci[0]],\n",
    "    \"CI (97.5%)\": [recall_ci[1], precision_ci[1], accuracy_ci[1], f1_ci[1]]\n",
    "})\n",
    "\n",
    "# Display the table\n",
    "metrics_table2"
   ],
   "metadata": {
    "collapsed": false
   }
  },
  {
   "cell_type": "code",
   "execution_count": null,
   "outputs": [],
   "source": [
    "metrics_table"
   ],
   "metadata": {
    "collapsed": false
   }
  },
  {
   "cell_type": "code",
   "execution_count": null,
   "outputs": [
    {
     "name": "stdout",
     "output_type": "stream",
     "text": [
      "Best params: {'max_iter': 500, 'n_components': 3, 'tol': 1e-09}\n",
      "Best CV score: -0.1923653852791437\n",
      "Test R^2: 0.3804\n"
     ]
    }
   ],
   "source": [
    "from sklearn.model_selection import GridSearchCV, KFold\n",
    "from sklearn.cross_decomposition import PLSRegression\n",
    "from sklearn.metrics import make_scorer, r2_score\n",
    "import pandas as pd\n",
    "\n",
    "# Suppose you already have train_df and test_df\n",
    "# with 'y' as your target column\n",
    "\n",
    "X_train = train_df.drop(columns='y')\n",
    "y_train = train_df['y']\n",
    "\n",
    "# Define PLS model (no n_components specified yet)\n",
    "pls = PLSRegression(scale=True, copy=True)\n",
    "\n",
    "# Define the parameter grid for n_components\n",
    "param_grid = {\n",
    "    'n_components': [1, 2, 3, 4, 5, 6, 7, 8, 9, 10, 11, 12],\n",
    "    'max_iter': [500, 1000, 5000, 10000],\n",
    "    'tol': [1e-9, 1e-10, 1e-11, 1e-12, 1e-13]\n",
    "}\n",
    "\n",
    "# Define a cross-validation strategy\n",
    "cv = KFold(n_splits=10, shuffle=True)\n",
    "\n",
    "# Optionally define a scoring metric (or just pass a string to 'scoring')\n",
    "# scoring = make_scorer(r2_score)\n",
    "\n",
    "grid_search = GridSearchCV(\n",
    "    estimator=pls,\n",
    "    param_grid=param_grid,\n",
    "    scoring='neg_mean_squared_error', # 'r2'\n",
    "    cv=cv,\n",
    "    n_jobs=1,\n",
    "    verbose=1\n",
    ")\n",
    "\n",
    "# Fit the grid search on training data\n",
    "grid_search.fit(X_train, y_train)\n",
    "\n",
    "print(\"Best params:\", grid_search.best_params_)\n",
    "print(\"Best CV score:\", grid_search.best_score_)\n",
    "\n",
    "# Retrieve best model\n",
    "best_pls = grid_search.best_estimator_\n",
    "\n",
    "# Evaluate on test data\n",
    "X_test = test_df.drop(columns='y')\n",
    "y_test = test_df['y']\n",
    "\n",
    "y_pred = best_pls.predict(X_test)\n",
    "\n",
    "test_r2 = r2_score(y_test, y_pred)\n",
    "print(f\"Test R^2: {test_r2:.4f}\")\n"
   ],
   "metadata": {
    "collapsed": false
   }
  },
  {
   "cell_type": "code",
   "execution_count": null,
   "outputs": [
    {
     "data": {
      "text/plain": "{'mean_fit_time': array([0.02325959, 0.01919615, 0.04693029, 0.02640634, 0.02922733,\n        0.05676389, 0.02949104, 0.02201765, 0.02298658, 0.01764972,\n        0.024593  , 0.0191287 , 0.02341242, 0.02259378, 0.02022767,\n        0.02085662, 0.02649593, 0.02512815, 0.02096939, 0.0221287 ,\n        0.02402868, 0.02677894, 0.02348399, 0.02365539, 0.02788196,\n        0.03324668, 0.03102489, 0.02655702, 0.02837393, 0.02644284,\n        0.0291924 , 0.03029628, 0.03139815, 0.03274269, 0.03085463,\n        0.03097177, 0.03963368, 0.19234993, 0.09517384, 0.11729577,\n        0.07595935, 0.06851628, 0.06756964, 0.05219138, 0.04090784,\n        0.05426986, 0.05069985, 0.03862488, 0.04202297, 0.04491899,\n        0.04588416, 0.03909819, 0.04091663, 0.04158263, 0.0411694 ,\n        0.05186594, 0.06099939, 0.04533067, 0.08282177, 0.08222752,\n        0.01880176, 0.01682873, 0.01991107, 0.01720586, 0.01858773,\n        0.02488191, 0.02250409, 0.02303243, 0.02148881, 0.02102375,\n        0.02582054, 0.03558817, 0.02537696, 0.02995219, 0.02629566,\n        0.02919989, 0.03181744, 0.02680118, 0.03107011, 0.03288226,\n        0.03405721, 0.0339607 , 0.0353555 , 0.0309351 , 0.03323364,\n        0.05452399, 0.0397784 , 0.04121099, 0.03904154, 0.0391854 ,\n        0.04606168, 0.04081337, 0.03626549, 0.0420871 , 0.03918531,\n        0.0470289 , 0.04460609, 0.04406917, 0.04527071, 0.04296775,\n        0.04821677, 0.04721704, 0.05309432, 0.04746463, 0.0439559 ,\n        0.05973599, 0.05900869, 0.0416795 , 0.05035803, 0.04419999,\n        0.04476683, 0.04362555, 0.04332743, 0.03819151, 0.03825352,\n        0.052036  , 0.03937705, 0.03875468, 0.04591422, 0.03638296,\n        0.02077136, 0.01606715, 0.01689827, 0.01724169, 0.03856413,\n        0.03393812, 0.02787898, 0.02425458, 0.02504933, 0.03184872,\n        0.03155067, 0.03390429, 0.03301163, 0.03068676, 0.02772858,\n        0.03103344, 0.0302824 , 0.03084502, 0.03702502, 0.03049655,\n        0.03474925, 0.03207998, 0.03339241, 0.0324203 , 0.03820784,\n        0.03500657, 0.03821285, 0.03859382, 0.03757191, 0.03513272,\n        0.04333456, 0.04428763, 0.03630004, 0.03714387, 0.03759575,\n        0.03384552, 0.03344774, 0.03276143, 0.03307419, 0.03853073,\n        0.03594098, 0.03885667, 0.03760264, 0.03737459, 0.03931606,\n        0.04676535, 0.03742709, 0.03684297, 0.03575554, 0.03663673,\n        0.03803451, 0.03790414, 0.03965759, 0.03852265, 0.0367769 ,\n        0.04394083, 0.04944577, 0.04144335, 0.04040201, 0.03789413,\n        0.01752791, 0.01681726, 0.01836338, 0.02209263, 0.01653364,\n        0.01768761, 0.01894047, 0.01921482, 0.0178839 , 0.01773336,\n        0.0261934 , 0.01998637, 0.02028832, 0.02027867, 0.02091084,\n        0.02293656, 0.02283549, 0.02280946, 0.0218838 , 0.02319808,\n        0.0255234 , 0.02714324, 0.02435656, 0.02491341, 0.0234051 ,\n        0.02966113, 0.02986269, 0.02629261, 0.02645869, 0.02826843,\n        0.03790493, 0.03031754, 0.027988  , 0.03101444, 0.02875152,\n        0.03414903, 0.03232782, 0.03109622, 0.03627751, 0.0312443 ,\n        0.03446391, 0.03255279, 0.03203111, 0.03443077, 0.03424423,\n        0.04279342, 0.04458985, 0.04697514, 0.03869977, 0.04552031,\n        0.04232993, 0.04210639, 0.04294972, 0.04324865, 0.03946905,\n        0.04075108, 0.04175184, 0.04300339, 0.05024164, 0.04193091]),\n 'std_fit_time': array([0.00385257, 0.00449898, 0.03023218, 0.02611553, 0.01317372,\n        0.06433942, 0.0079305 , 0.00245624, 0.00242486, 0.00278957,\n        0.00431904, 0.00362439, 0.00392108, 0.00395539, 0.00279726,\n        0.00342684, 0.00436312, 0.0039802 , 0.00195402, 0.00240632,\n        0.00217135, 0.0060469 , 0.00317556, 0.00358632, 0.00351809,\n        0.00599397, 0.00324961, 0.00296407, 0.00312712, 0.00334064,\n        0.00394081, 0.00341369, 0.0044047 , 0.00430037, 0.00248653,\n        0.00284627, 0.00475117, 0.18323293, 0.01629394, 0.03106194,\n        0.02688331, 0.01760959, 0.01455007, 0.00352085, 0.00484915,\n        0.01833968, 0.0131221 , 0.00257989, 0.00952153, 0.00928626,\n        0.01185686, 0.00262285, 0.00337553, 0.00374274, 0.00403875,\n        0.01619705, 0.02350593, 0.00636168, 0.027616  , 0.02576988,\n        0.00364195, 0.00157619, 0.00236498, 0.00291688, 0.00359065,\n        0.00811527, 0.00201656, 0.00118784, 0.00075083, 0.00118882,\n        0.00235134, 0.01479885, 0.00247942, 0.00494932, 0.00292777,\n        0.00207772, 0.0031149 , 0.00105847, 0.00379839, 0.00503285,\n        0.00383429, 0.00299026, 0.00407222, 0.00803961, 0.00623986,\n        0.01726988, 0.00373044, 0.00425352, 0.00223311, 0.00376205,\n        0.0115069 , 0.0053426 , 0.00323768, 0.00898767, 0.00249686,\n        0.00285988, 0.00346959, 0.00213023, 0.0033732 , 0.00143814,\n        0.00450967, 0.00199998, 0.00989467, 0.00244116, 0.00257434,\n        0.00367068, 0.00839692, 0.00703625, 0.01242919, 0.00934507,\n        0.01278895, 0.00333354, 0.00311882, 0.00222183, 0.00415809,\n        0.01171089, 0.00303378, 0.00215694, 0.01389993, 0.00491552,\n        0.00400351, 0.00454528, 0.00329727, 0.00311102, 0.01176084,\n        0.00514115, 0.00714652, 0.00262985, 0.00407457, 0.00857618,\n        0.00551485, 0.00562481, 0.00694754, 0.00451473, 0.00268171,\n        0.00256783, 0.00307965, 0.00254254, 0.00374555, 0.00146822,\n        0.00466729, 0.00156481, 0.00354448, 0.00170856, 0.00878286,\n        0.00197109, 0.00295159, 0.00347253, 0.00253847, 0.00122898,\n        0.00458729, 0.0045209 , 0.00627624, 0.00578311, 0.00835085,\n        0.00474612, 0.00381057, 0.00492104, 0.00268823, 0.00750627,\n        0.00441519, 0.00605471, 0.00448389, 0.00415703, 0.00694135,\n        0.00941345, 0.00116717, 0.00538836, 0.00481727, 0.00410356,\n        0.00403295, 0.00474551, 0.00502414, 0.00315336, 0.0043161 ,\n        0.00178749, 0.01360888, 0.00339365, 0.00615199, 0.00264142,\n        0.00260417, 0.00278075, 0.00343849, 0.00392495, 0.00417139,\n        0.00326262, 0.00340542, 0.00225356, 0.00163141, 0.00269208,\n        0.00459731, 0.00177667, 0.00192348, 0.00142284, 0.0016127 ,\n        0.00323826, 0.00485419, 0.00319779, 0.00391001, 0.0034823 ,\n        0.0047262 , 0.00404285, 0.00346716, 0.00424947, 0.00360392,\n        0.00468985, 0.00472045, 0.00346145, 0.00385599, 0.00343843,\n        0.00652291, 0.00439609, 0.00376202, 0.00383787, 0.00267041,\n        0.00432292, 0.00340663, 0.00328212, 0.00646485, 0.00207341,\n        0.0024456 , 0.00371057, 0.00269222, 0.00289767, 0.00336784,\n        0.00899352, 0.01271257, 0.00968925, 0.00606016, 0.00497538,\n        0.00186036, 0.00446694, 0.00565542, 0.00406576, 0.00249187,\n        0.00408637, 0.00434048, 0.00267319, 0.01116872, 0.00366706]),\n 'mean_score_time': array([0.01222928, 0.01267748, 0.02563305, 0.02802432, 0.01425481,\n        0.03212173, 0.01192391, 0.009179  , 0.00975549, 0.00983927,\n        0.0091285 , 0.00988579, 0.01038482, 0.01107059, 0.00897601,\n        0.01019363, 0.01060331, 0.00908184, 0.0104471 , 0.00922134,\n        0.00755775, 0.00800552, 0.00893674, 0.00944333, 0.01035097,\n        0.00991225, 0.00984001, 0.00849898, 0.00749788, 0.00902596,\n        0.00826433, 0.01010134, 0.00779433, 0.00934846, 0.01006591,\n        0.00808496, 0.01378472, 0.01974556, 0.02569628, 0.0295269 ,\n        0.01434786, 0.01481729, 0.01433685, 0.01243896, 0.01206133,\n        0.01108453, 0.00975063, 0.00810909, 0.01014316, 0.00993094,\n        0.01049073, 0.00915701, 0.00847783, 0.00921717, 0.00973139,\n        0.01194711, 0.01234074, 0.01182697, 0.01927695, 0.01636825,\n        0.01110423, 0.0090754 , 0.01055677, 0.01093593, 0.00909281,\n        0.01255126, 0.01032491, 0.01130633, 0.01057465, 0.01152229,\n        0.01197057, 0.01563849, 0.01072013, 0.01303408, 0.01146793,\n        0.01127331, 0.01267879, 0.01086252, 0.01180134, 0.01342785,\n        0.01128259, 0.01176388, 0.01160035, 0.0124414 , 0.01179123,\n        0.01332726, 0.01213336, 0.01229045, 0.01131344, 0.01277909,\n        0.01343839, 0.01090469, 0.0108269 , 0.01158938, 0.01050091,\n        0.01121533, 0.01076381, 0.010132  , 0.01199234, 0.01108584,\n        0.01079016, 0.00996888, 0.01236038, 0.01044779, 0.0109751 ,\n        0.01212637, 0.01286552, 0.01008205, 0.01081467, 0.01019993,\n        0.01131988, 0.00619447, 0.0068152 , 0.01199193, 0.01137638,\n        0.00917873, 0.01178002, 0.01098971, 0.00905626, 0.01332469,\n        0.00997207, 0.00915453, 0.00882823, 0.00852363, 0.02329102,\n        0.01643825, 0.01829646, 0.0118063 , 0.01320906, 0.0151437 ,\n        0.0136215 , 0.0140183 , 0.01397116, 0.01198823, 0.01158612,\n        0.01080165, 0.01074452, 0.01245923, 0.01363068, 0.01098561,\n        0.01215534, 0.01092966, 0.01128469, 0.01168225, 0.01346145,\n        0.01168513, 0.01135063, 0.01143842, 0.01123948, 0.01074443,\n        0.01268213, 0.01240878, 0.01017272, 0.01100085, 0.0095901 ,\n        0.00948057, 0.00966921, 0.00978088, 0.00939012, 0.01051469,\n        0.01081817, 0.01089256, 0.00765293, 0.00858245, 0.00936892,\n        0.00756817, 0.01070759, 0.00946443, 0.00985394, 0.00828857,\n        0.01015635, 0.00838675, 0.00920665, 0.00945811, 0.009726  ,\n        0.00692573, 0.01029332, 0.00884235, 0.01076033, 0.01210454,\n        0.00901895, 0.00812268, 0.01055319, 0.01266222, 0.00993831,\n        0.00985878, 0.00897546, 0.00913634, 0.0092813 , 0.0096858 ,\n        0.00807459, 0.00995903, 0.00947518, 0.00967629, 0.00974891,\n        0.00809181, 0.01151667, 0.00938425, 0.00988743, 0.00841467,\n        0.00899591, 0.0062618 , 0.00971816, 0.00939536, 0.00996325,\n        0.0093663 , 0.00879843, 0.0099586 , 0.00991302, 0.00890553,\n        0.01081626, 0.0088104 , 0.00976181, 0.01091449, 0.0102134 ,\n        0.00594923, 0.01042342, 0.01040719, 0.00989323, 0.00936615,\n        0.00827436, 0.01042628, 0.01072431, 0.0085758 , 0.00873594,\n        0.00868852, 0.01194637, 0.01200945, 0.01100781, 0.01075778,\n        0.00943398, 0.01076365, 0.01076119, 0.00793078, 0.0087862 ,\n        0.01217921, 0.01072826, 0.01025817, 0.01105728, 0.01055281]),\n 'std_score_time': array([0.00328484, 0.00823576, 0.0222334 , 0.05198867, 0.00456988,\n        0.03704088, 0.004098  , 0.00228598, 0.00206217, 0.00282067,\n        0.00424773, 0.00206051, 0.00331787, 0.00293352, 0.00209718,\n        0.00523697, 0.00210604, 0.00333687, 0.00254609, 0.00234556,\n        0.00332131, 0.00246796, 0.00241316, 0.00350615, 0.00526358,\n        0.00249229, 0.00156692, 0.00224888, 0.00303261, 0.00311263,\n        0.00379472, 0.00338042, 0.00334911, 0.00260692, 0.00272767,\n        0.0032759 , 0.00334202, 0.00708051, 0.00294204, 0.01003841,\n        0.00229739, 0.00357068, 0.0024633 , 0.00265474, 0.00493957,\n        0.00433991, 0.00125649, 0.00296106, 0.0030246 , 0.00148044,\n        0.00152033, 0.00284912, 0.00218683, 0.00108807, 0.0017742 ,\n        0.00236979, 0.00391301, 0.00307582, 0.00784003, 0.00577592,\n        0.00478437, 0.00122859, 0.00245155, 0.00288593, 0.0022668 ,\n        0.00376275, 0.00056195, 0.00132917, 0.00086397, 0.0010851 ,\n        0.00196118, 0.00403565, 0.00079361, 0.00195201, 0.00225446,\n        0.00102963, 0.00297955, 0.00121747, 0.00155976, 0.0024535 ,\n        0.00123143, 0.00139989, 0.00192045, 0.00730081, 0.00312986,\n        0.00267266, 0.0013657 , 0.00128625, 0.00081861, 0.00205729,\n        0.00501627, 0.00140134, 0.00163736, 0.0037161 , 0.00075998,\n        0.00241583, 0.00118782, 0.0007539 , 0.00233539, 0.00141693,\n        0.00170011, 0.00080958, 0.00676052, 0.00047652, 0.00135187,\n        0.00203716, 0.00228382, 0.0042211 , 0.00349659, 0.00258584,\n        0.00263755, 0.00294888, 0.00304623, 0.00134652, 0.00171032,\n        0.00264165, 0.00384148, 0.00277204, 0.00448306, 0.00390026,\n        0.00492664, 0.003991  , 0.00318423, 0.00150496, 0.0089145 ,\n        0.00345374, 0.01296394, 0.00165509, 0.00231097, 0.00430009,\n        0.00305216, 0.00219461, 0.00432378, 0.00296179, 0.00146741,\n        0.00056575, 0.00066673, 0.00314799, 0.00198752, 0.00094565,\n        0.00239267, 0.00090086, 0.00091227, 0.00163888, 0.00350725,\n        0.00118023, 0.00171091, 0.00125807, 0.00121893, 0.00116946,\n        0.00198146, 0.00249012, 0.0038973 , 0.00295609, 0.00315756,\n        0.00432603, 0.00390308, 0.00339303, 0.00363232, 0.0043462 ,\n        0.0038248 , 0.00341662, 0.00477354, 0.003992  , 0.00328922,\n        0.00327818, 0.00256926, 0.00255518, 0.00201713, 0.003834  ,\n        0.00220402, 0.00366486, 0.00170084, 0.00242968, 0.00384171,\n        0.00228947, 0.00196413, 0.00577221, 0.0026761 , 0.00079472,\n        0.00395778, 0.00344933, 0.00242024, 0.00479666, 0.00248353,\n        0.00377676, 0.00359483, 0.00238917, 0.00406495, 0.00365595,\n        0.00581286, 0.00203953, 0.00178135, 0.00187075, 0.00145097,\n        0.00201652, 0.00634667, 0.00238366, 0.00219204, 0.0033236 ,\n        0.00252417, 0.00328344, 0.00135223, 0.00500079, 0.00349055,\n        0.00469138, 0.00287126, 0.00333365, 0.00432424, 0.00470753,\n        0.00310418, 0.00163491, 0.00160915, 0.00574241, 0.00344595,\n        0.00309071, 0.00424687, 0.00243435, 0.00307115, 0.00146056,\n        0.00193068, 0.00338871, 0.00334111, 0.00428694, 0.00433476,\n        0.00243723, 0.00295601, 0.00546049, 0.00246209, 0.00414193,\n        0.00106737, 0.00166457, 0.00254903, 0.00207143, 0.0030531 ,\n        0.00268534, 0.0034102 , 0.00077998, 0.00304179, 0.00341324]),\n 'param_max_iter': masked_array(data=[500, 500, 500, 500, 500, 500, 500, 500, 500, 500, 500,\n                    500, 500, 500, 500, 500, 500, 500, 500, 500, 500, 500,\n                    500, 500, 500, 500, 500, 500, 500, 500, 500, 500, 500,\n                    500, 500, 500, 500, 500, 500, 500, 500, 500, 500, 500,\n                    500, 500, 500, 500, 500, 500, 500, 500, 500, 500, 500,\n                    500, 500, 500, 500, 500, 1000, 1000, 1000, 1000, 1000,\n                    1000, 1000, 1000, 1000, 1000, 1000, 1000, 1000, 1000,\n                    1000, 1000, 1000, 1000, 1000, 1000, 1000, 1000, 1000,\n                    1000, 1000, 1000, 1000, 1000, 1000, 1000, 1000, 1000,\n                    1000, 1000, 1000, 1000, 1000, 1000, 1000, 1000, 1000,\n                    1000, 1000, 1000, 1000, 1000, 1000, 1000, 1000, 1000,\n                    1000, 1000, 1000, 1000, 1000, 1000, 1000, 1000, 1000,\n                    1000, 5000, 5000, 5000, 5000, 5000, 5000, 5000, 5000,\n                    5000, 5000, 5000, 5000, 5000, 5000, 5000, 5000, 5000,\n                    5000, 5000, 5000, 5000, 5000, 5000, 5000, 5000, 5000,\n                    5000, 5000, 5000, 5000, 5000, 5000, 5000, 5000, 5000,\n                    5000, 5000, 5000, 5000, 5000, 5000, 5000, 5000, 5000,\n                    5000, 5000, 5000, 5000, 5000, 5000, 5000, 5000, 5000,\n                    5000, 5000, 5000, 5000, 5000, 5000, 5000, 10000, 10000,\n                    10000, 10000, 10000, 10000, 10000, 10000, 10000, 10000,\n                    10000, 10000, 10000, 10000, 10000, 10000, 10000, 10000,\n                    10000, 10000, 10000, 10000, 10000, 10000, 10000, 10000,\n                    10000, 10000, 10000, 10000, 10000, 10000, 10000, 10000,\n                    10000, 10000, 10000, 10000, 10000, 10000, 10000, 10000,\n                    10000, 10000, 10000, 10000, 10000, 10000, 10000, 10000,\n                    10000, 10000, 10000, 10000, 10000, 10000, 10000, 10000,\n                    10000, 10000],\n              mask=[False, False, False, False, False, False, False, False,\n                    False, False, False, False, False, False, False, False,\n                    False, False, False, False, False, False, False, False,\n                    False, False, False, False, False, False, False, False,\n                    False, False, False, False, False, False, False, False,\n                    False, False, False, False, False, False, False, False,\n                    False, False, False, False, False, False, False, False,\n                    False, False, False, False, False, False, False, False,\n                    False, False, False, False, False, False, False, False,\n                    False, False, False, False, False, False, False, False,\n                    False, False, False, False, False, False, False, False,\n                    False, False, False, False, False, False, False, False,\n                    False, False, False, False, False, False, False, False,\n                    False, False, False, False, False, False, False, False,\n                    False, False, False, False, False, False, False, False,\n                    False, False, False, False, False, False, False, False,\n                    False, False, False, False, False, False, False, False,\n                    False, False, False, False, False, False, False, False,\n                    False, False, False, False, False, False, False, False,\n                    False, False, False, False, False, False, False, False,\n                    False, False, False, False, False, False, False, False,\n                    False, False, False, False, False, False, False, False,\n                    False, False, False, False, False, False, False, False,\n                    False, False, False, False, False, False, False, False,\n                    False, False, False, False, False, False, False, False,\n                    False, False, False, False, False, False, False, False,\n                    False, False, False, False, False, False, False, False,\n                    False, False, False, False, False, False, False, False,\n                    False, False, False, False, False, False, False, False,\n                    False, False, False, False, False, False, False, False],\n        fill_value=999999),\n 'param_n_components': masked_array(data=[1, 1, 1, 1, 1, 2, 2, 2, 2, 2, 3, 3, 3, 3, 3, 4, 4, 4,\n                    4, 4, 5, 5, 5, 5, 5, 6, 6, 6, 6, 6, 7, 7, 7, 7, 7, 8,\n                    8, 8, 8, 8, 9, 9, 9, 9, 9, 10, 10, 10, 10, 10, 11, 11,\n                    11, 11, 11, 12, 12, 12, 12, 12, 1, 1, 1, 1, 1, 2, 2, 2,\n                    2, 2, 3, 3, 3, 3, 3, 4, 4, 4, 4, 4, 5, 5, 5, 5, 5, 6,\n                    6, 6, 6, 6, 7, 7, 7, 7, 7, 8, 8, 8, 8, 8, 9, 9, 9, 9,\n                    9, 10, 10, 10, 10, 10, 11, 11, 11, 11, 11, 12, 12, 12,\n                    12, 12, 1, 1, 1, 1, 1, 2, 2, 2, 2, 2, 3, 3, 3, 3, 3, 4,\n                    4, 4, 4, 4, 5, 5, 5, 5, 5, 6, 6, 6, 6, 6, 7, 7, 7, 7,\n                    7, 8, 8, 8, 8, 8, 9, 9, 9, 9, 9, 10, 10, 10, 10, 10,\n                    11, 11, 11, 11, 11, 12, 12, 12, 12, 12, 1, 1, 1, 1, 1,\n                    2, 2, 2, 2, 2, 3, 3, 3, 3, 3, 4, 4, 4, 4, 4, 5, 5, 5,\n                    5, 5, 6, 6, 6, 6, 6, 7, 7, 7, 7, 7, 8, 8, 8, 8, 8, 9,\n                    9, 9, 9, 9, 10, 10, 10, 10, 10, 11, 11, 11, 11, 11, 12,\n                    12, 12, 12, 12],\n              mask=[False, False, False, False, False, False, False, False,\n                    False, False, False, False, False, False, False, False,\n                    False, False, False, False, False, False, False, False,\n                    False, False, False, False, False, False, False, False,\n                    False, False, False, False, False, False, False, False,\n                    False, False, False, False, False, False, False, False,\n                    False, False, False, False, False, False, False, False,\n                    False, False, False, False, False, False, False, False,\n                    False, False, False, False, False, False, False, False,\n                    False, False, False, False, False, False, False, False,\n                    False, False, False, False, False, False, False, False,\n                    False, False, False, False, False, False, False, False,\n                    False, False, False, False, False, False, False, False,\n                    False, False, False, False, False, False, False, False,\n                    False, False, False, False, False, False, False, False,\n                    False, False, False, False, False, False, False, False,\n                    False, False, False, False, False, False, False, False,\n                    False, False, False, False, False, False, False, False,\n                    False, False, False, False, False, False, False, False,\n                    False, False, False, False, False, False, False, False,\n                    False, False, False, False, False, False, False, False,\n                    False, False, False, False, False, False, False, False,\n                    False, False, False, False, False, False, False, False,\n                    False, False, False, False, False, False, False, False,\n                    False, False, False, False, False, False, False, False,\n                    False, False, False, False, False, False, False, False,\n                    False, False, False, False, False, False, False, False,\n                    False, False, False, False, False, False, False, False,\n                    False, False, False, False, False, False, False, False,\n                    False, False, False, False, False, False, False, False],\n        fill_value=999999),\n 'param_tol': masked_array(data=[1e-09, 1e-10, 1e-11, 1e-12, 1e-13, 1e-09, 1e-10, 1e-11,\n                    1e-12, 1e-13, 1e-09, 1e-10, 1e-11, 1e-12, 1e-13, 1e-09,\n                    1e-10, 1e-11, 1e-12, 1e-13, 1e-09, 1e-10, 1e-11, 1e-12,\n                    1e-13, 1e-09, 1e-10, 1e-11, 1e-12, 1e-13, 1e-09, 1e-10,\n                    1e-11, 1e-12, 1e-13, 1e-09, 1e-10, 1e-11, 1e-12, 1e-13,\n                    1e-09, 1e-10, 1e-11, 1e-12, 1e-13, 1e-09, 1e-10, 1e-11,\n                    1e-12, 1e-13, 1e-09, 1e-10, 1e-11, 1e-12, 1e-13, 1e-09,\n                    1e-10, 1e-11, 1e-12, 1e-13, 1e-09, 1e-10, 1e-11, 1e-12,\n                    1e-13, 1e-09, 1e-10, 1e-11, 1e-12, 1e-13, 1e-09, 1e-10,\n                    1e-11, 1e-12, 1e-13, 1e-09, 1e-10, 1e-11, 1e-12, 1e-13,\n                    1e-09, 1e-10, 1e-11, 1e-12, 1e-13, 1e-09, 1e-10, 1e-11,\n                    1e-12, 1e-13, 1e-09, 1e-10, 1e-11, 1e-12, 1e-13, 1e-09,\n                    1e-10, 1e-11, 1e-12, 1e-13, 1e-09, 1e-10, 1e-11, 1e-12,\n                    1e-13, 1e-09, 1e-10, 1e-11, 1e-12, 1e-13, 1e-09, 1e-10,\n                    1e-11, 1e-12, 1e-13, 1e-09, 1e-10, 1e-11, 1e-12, 1e-13,\n                    1e-09, 1e-10, 1e-11, 1e-12, 1e-13, 1e-09, 1e-10, 1e-11,\n                    1e-12, 1e-13, 1e-09, 1e-10, 1e-11, 1e-12, 1e-13, 1e-09,\n                    1e-10, 1e-11, 1e-12, 1e-13, 1e-09, 1e-10, 1e-11, 1e-12,\n                    1e-13, 1e-09, 1e-10, 1e-11, 1e-12, 1e-13, 1e-09, 1e-10,\n                    1e-11, 1e-12, 1e-13, 1e-09, 1e-10, 1e-11, 1e-12, 1e-13,\n                    1e-09, 1e-10, 1e-11, 1e-12, 1e-13, 1e-09, 1e-10, 1e-11,\n                    1e-12, 1e-13, 1e-09, 1e-10, 1e-11, 1e-12, 1e-13, 1e-09,\n                    1e-10, 1e-11, 1e-12, 1e-13, 1e-09, 1e-10, 1e-11, 1e-12,\n                    1e-13, 1e-09, 1e-10, 1e-11, 1e-12, 1e-13, 1e-09, 1e-10,\n                    1e-11, 1e-12, 1e-13, 1e-09, 1e-10, 1e-11, 1e-12, 1e-13,\n                    1e-09, 1e-10, 1e-11, 1e-12, 1e-13, 1e-09, 1e-10, 1e-11,\n                    1e-12, 1e-13, 1e-09, 1e-10, 1e-11, 1e-12, 1e-13, 1e-09,\n                    1e-10, 1e-11, 1e-12, 1e-13, 1e-09, 1e-10, 1e-11, 1e-12,\n                    1e-13, 1e-09, 1e-10, 1e-11, 1e-12, 1e-13, 1e-09, 1e-10,\n                    1e-11, 1e-12, 1e-13, 1e-09, 1e-10, 1e-11, 1e-12, 1e-13],\n              mask=[False, False, False, False, False, False, False, False,\n                    False, False, False, False, False, False, False, False,\n                    False, False, False, False, False, False, False, False,\n                    False, False, False, False, False, False, False, False,\n                    False, False, False, False, False, False, False, False,\n                    False, False, False, False, False, False, False, False,\n                    False, False, False, False, False, False, False, False,\n                    False, False, False, False, False, False, False, False,\n                    False, False, False, False, False, False, False, False,\n                    False, False, False, False, False, False, False, False,\n                    False, False, False, False, False, False, False, False,\n                    False, False, False, False, False, False, False, False,\n                    False, False, False, False, False, False, False, False,\n                    False, False, False, False, False, False, False, False,\n                    False, False, False, False, False, False, False, False,\n                    False, False, False, False, False, False, False, False,\n                    False, False, False, False, False, False, False, False,\n                    False, False, False, False, False, False, False, False,\n                    False, False, False, False, False, False, False, False,\n                    False, False, False, False, False, False, False, False,\n                    False, False, False, False, False, False, False, False,\n                    False, False, False, False, False, False, False, False,\n                    False, False, False, False, False, False, False, False,\n                    False, False, False, False, False, False, False, False,\n                    False, False, False, False, False, False, False, False,\n                    False, False, False, False, False, False, False, False,\n                    False, False, False, False, False, False, False, False,\n                    False, False, False, False, False, False, False, False,\n                    False, False, False, False, False, False, False, False,\n                    False, False, False, False, False, False, False, False],\n        fill_value=1e+20),\n 'params': [{'max_iter': 500, 'n_components': 1, 'tol': 1e-09},\n  {'max_iter': 500, 'n_components': 1, 'tol': 1e-10},\n  {'max_iter': 500, 'n_components': 1, 'tol': 1e-11},\n  {'max_iter': 500, 'n_components': 1, 'tol': 1e-12},\n  {'max_iter': 500, 'n_components': 1, 'tol': 1e-13},\n  {'max_iter': 500, 'n_components': 2, 'tol': 1e-09},\n  {'max_iter': 500, 'n_components': 2, 'tol': 1e-10},\n  {'max_iter': 500, 'n_components': 2, 'tol': 1e-11},\n  {'max_iter': 500, 'n_components': 2, 'tol': 1e-12},\n  {'max_iter': 500, 'n_components': 2, 'tol': 1e-13},\n  {'max_iter': 500, 'n_components': 3, 'tol': 1e-09},\n  {'max_iter': 500, 'n_components': 3, 'tol': 1e-10},\n  {'max_iter': 500, 'n_components': 3, 'tol': 1e-11},\n  {'max_iter': 500, 'n_components': 3, 'tol': 1e-12},\n  {'max_iter': 500, 'n_components': 3, 'tol': 1e-13},\n  {'max_iter': 500, 'n_components': 4, 'tol': 1e-09},\n  {'max_iter': 500, 'n_components': 4, 'tol': 1e-10},\n  {'max_iter': 500, 'n_components': 4, 'tol': 1e-11},\n  {'max_iter': 500, 'n_components': 4, 'tol': 1e-12},\n  {'max_iter': 500, 'n_components': 4, 'tol': 1e-13},\n  {'max_iter': 500, 'n_components': 5, 'tol': 1e-09},\n  {'max_iter': 500, 'n_components': 5, 'tol': 1e-10},\n  {'max_iter': 500, 'n_components': 5, 'tol': 1e-11},\n  {'max_iter': 500, 'n_components': 5, 'tol': 1e-12},\n  {'max_iter': 500, 'n_components': 5, 'tol': 1e-13},\n  {'max_iter': 500, 'n_components': 6, 'tol': 1e-09},\n  {'max_iter': 500, 'n_components': 6, 'tol': 1e-10},\n  {'max_iter': 500, 'n_components': 6, 'tol': 1e-11},\n  {'max_iter': 500, 'n_components': 6, 'tol': 1e-12},\n  {'max_iter': 500, 'n_components': 6, 'tol': 1e-13},\n  {'max_iter': 500, 'n_components': 7, 'tol': 1e-09},\n  {'max_iter': 500, 'n_components': 7, 'tol': 1e-10},\n  {'max_iter': 500, 'n_components': 7, 'tol': 1e-11},\n  {'max_iter': 500, 'n_components': 7, 'tol': 1e-12},\n  {'max_iter': 500, 'n_components': 7, 'tol': 1e-13},\n  {'max_iter': 500, 'n_components': 8, 'tol': 1e-09},\n  {'max_iter': 500, 'n_components': 8, 'tol': 1e-10},\n  {'max_iter': 500, 'n_components': 8, 'tol': 1e-11},\n  {'max_iter': 500, 'n_components': 8, 'tol': 1e-12},\n  {'max_iter': 500, 'n_components': 8, 'tol': 1e-13},\n  {'max_iter': 500, 'n_components': 9, 'tol': 1e-09},\n  {'max_iter': 500, 'n_components': 9, 'tol': 1e-10},\n  {'max_iter': 500, 'n_components': 9, 'tol': 1e-11},\n  {'max_iter': 500, 'n_components': 9, 'tol': 1e-12},\n  {'max_iter': 500, 'n_components': 9, 'tol': 1e-13},\n  {'max_iter': 500, 'n_components': 10, 'tol': 1e-09},\n  {'max_iter': 500, 'n_components': 10, 'tol': 1e-10},\n  {'max_iter': 500, 'n_components': 10, 'tol': 1e-11},\n  {'max_iter': 500, 'n_components': 10, 'tol': 1e-12},\n  {'max_iter': 500, 'n_components': 10, 'tol': 1e-13},\n  {'max_iter': 500, 'n_components': 11, 'tol': 1e-09},\n  {'max_iter': 500, 'n_components': 11, 'tol': 1e-10},\n  {'max_iter': 500, 'n_components': 11, 'tol': 1e-11},\n  {'max_iter': 500, 'n_components': 11, 'tol': 1e-12},\n  {'max_iter': 500, 'n_components': 11, 'tol': 1e-13},\n  {'max_iter': 500, 'n_components': 12, 'tol': 1e-09},\n  {'max_iter': 500, 'n_components': 12, 'tol': 1e-10},\n  {'max_iter': 500, 'n_components': 12, 'tol': 1e-11},\n  {'max_iter': 500, 'n_components': 12, 'tol': 1e-12},\n  {'max_iter': 500, 'n_components': 12, 'tol': 1e-13},\n  {'max_iter': 1000, 'n_components': 1, 'tol': 1e-09},\n  {'max_iter': 1000, 'n_components': 1, 'tol': 1e-10},\n  {'max_iter': 1000, 'n_components': 1, 'tol': 1e-11},\n  {'max_iter': 1000, 'n_components': 1, 'tol': 1e-12},\n  {'max_iter': 1000, 'n_components': 1, 'tol': 1e-13},\n  {'max_iter': 1000, 'n_components': 2, 'tol': 1e-09},\n  {'max_iter': 1000, 'n_components': 2, 'tol': 1e-10},\n  {'max_iter': 1000, 'n_components': 2, 'tol': 1e-11},\n  {'max_iter': 1000, 'n_components': 2, 'tol': 1e-12},\n  {'max_iter': 1000, 'n_components': 2, 'tol': 1e-13},\n  {'max_iter': 1000, 'n_components': 3, 'tol': 1e-09},\n  {'max_iter': 1000, 'n_components': 3, 'tol': 1e-10},\n  {'max_iter': 1000, 'n_components': 3, 'tol': 1e-11},\n  {'max_iter': 1000, 'n_components': 3, 'tol': 1e-12},\n  {'max_iter': 1000, 'n_components': 3, 'tol': 1e-13},\n  {'max_iter': 1000, 'n_components': 4, 'tol': 1e-09},\n  {'max_iter': 1000, 'n_components': 4, 'tol': 1e-10},\n  {'max_iter': 1000, 'n_components': 4, 'tol': 1e-11},\n  {'max_iter': 1000, 'n_components': 4, 'tol': 1e-12},\n  {'max_iter': 1000, 'n_components': 4, 'tol': 1e-13},\n  {'max_iter': 1000, 'n_components': 5, 'tol': 1e-09},\n  {'max_iter': 1000, 'n_components': 5, 'tol': 1e-10},\n  {'max_iter': 1000, 'n_components': 5, 'tol': 1e-11},\n  {'max_iter': 1000, 'n_components': 5, 'tol': 1e-12},\n  {'max_iter': 1000, 'n_components': 5, 'tol': 1e-13},\n  {'max_iter': 1000, 'n_components': 6, 'tol': 1e-09},\n  {'max_iter': 1000, 'n_components': 6, 'tol': 1e-10},\n  {'max_iter': 1000, 'n_components': 6, 'tol': 1e-11},\n  {'max_iter': 1000, 'n_components': 6, 'tol': 1e-12},\n  {'max_iter': 1000, 'n_components': 6, 'tol': 1e-13},\n  {'max_iter': 1000, 'n_components': 7, 'tol': 1e-09},\n  {'max_iter': 1000, 'n_components': 7, 'tol': 1e-10},\n  {'max_iter': 1000, 'n_components': 7, 'tol': 1e-11},\n  {'max_iter': 1000, 'n_components': 7, 'tol': 1e-12},\n  {'max_iter': 1000, 'n_components': 7, 'tol': 1e-13},\n  {'max_iter': 1000, 'n_components': 8, 'tol': 1e-09},\n  {'max_iter': 1000, 'n_components': 8, 'tol': 1e-10},\n  {'max_iter': 1000, 'n_components': 8, 'tol': 1e-11},\n  {'max_iter': 1000, 'n_components': 8, 'tol': 1e-12},\n  {'max_iter': 1000, 'n_components': 8, 'tol': 1e-13},\n  {'max_iter': 1000, 'n_components': 9, 'tol': 1e-09},\n  {'max_iter': 1000, 'n_components': 9, 'tol': 1e-10},\n  {'max_iter': 1000, 'n_components': 9, 'tol': 1e-11},\n  {'max_iter': 1000, 'n_components': 9, 'tol': 1e-12},\n  {'max_iter': 1000, 'n_components': 9, 'tol': 1e-13},\n  {'max_iter': 1000, 'n_components': 10, 'tol': 1e-09},\n  {'max_iter': 1000, 'n_components': 10, 'tol': 1e-10},\n  {'max_iter': 1000, 'n_components': 10, 'tol': 1e-11},\n  {'max_iter': 1000, 'n_components': 10, 'tol': 1e-12},\n  {'max_iter': 1000, 'n_components': 10, 'tol': 1e-13},\n  {'max_iter': 1000, 'n_components': 11, 'tol': 1e-09},\n  {'max_iter': 1000, 'n_components': 11, 'tol': 1e-10},\n  {'max_iter': 1000, 'n_components': 11, 'tol': 1e-11},\n  {'max_iter': 1000, 'n_components': 11, 'tol': 1e-12},\n  {'max_iter': 1000, 'n_components': 11, 'tol': 1e-13},\n  {'max_iter': 1000, 'n_components': 12, 'tol': 1e-09},\n  {'max_iter': 1000, 'n_components': 12, 'tol': 1e-10},\n  {'max_iter': 1000, 'n_components': 12, 'tol': 1e-11},\n  {'max_iter': 1000, 'n_components': 12, 'tol': 1e-12},\n  {'max_iter': 1000, 'n_components': 12, 'tol': 1e-13},\n  {'max_iter': 5000, 'n_components': 1, 'tol': 1e-09},\n  {'max_iter': 5000, 'n_components': 1, 'tol': 1e-10},\n  {'max_iter': 5000, 'n_components': 1, 'tol': 1e-11},\n  {'max_iter': 5000, 'n_components': 1, 'tol': 1e-12},\n  {'max_iter': 5000, 'n_components': 1, 'tol': 1e-13},\n  {'max_iter': 5000, 'n_components': 2, 'tol': 1e-09},\n  {'max_iter': 5000, 'n_components': 2, 'tol': 1e-10},\n  {'max_iter': 5000, 'n_components': 2, 'tol': 1e-11},\n  {'max_iter': 5000, 'n_components': 2, 'tol': 1e-12},\n  {'max_iter': 5000, 'n_components': 2, 'tol': 1e-13},\n  {'max_iter': 5000, 'n_components': 3, 'tol': 1e-09},\n  {'max_iter': 5000, 'n_components': 3, 'tol': 1e-10},\n  {'max_iter': 5000, 'n_components': 3, 'tol': 1e-11},\n  {'max_iter': 5000, 'n_components': 3, 'tol': 1e-12},\n  {'max_iter': 5000, 'n_components': 3, 'tol': 1e-13},\n  {'max_iter': 5000, 'n_components': 4, 'tol': 1e-09},\n  {'max_iter': 5000, 'n_components': 4, 'tol': 1e-10},\n  {'max_iter': 5000, 'n_components': 4, 'tol': 1e-11},\n  {'max_iter': 5000, 'n_components': 4, 'tol': 1e-12},\n  {'max_iter': 5000, 'n_components': 4, 'tol': 1e-13},\n  {'max_iter': 5000, 'n_components': 5, 'tol': 1e-09},\n  {'max_iter': 5000, 'n_components': 5, 'tol': 1e-10},\n  {'max_iter': 5000, 'n_components': 5, 'tol': 1e-11},\n  {'max_iter': 5000, 'n_components': 5, 'tol': 1e-12},\n  {'max_iter': 5000, 'n_components': 5, 'tol': 1e-13},\n  {'max_iter': 5000, 'n_components': 6, 'tol': 1e-09},\n  {'max_iter': 5000, 'n_components': 6, 'tol': 1e-10},\n  {'max_iter': 5000, 'n_components': 6, 'tol': 1e-11},\n  {'max_iter': 5000, 'n_components': 6, 'tol': 1e-12},\n  {'max_iter': 5000, 'n_components': 6, 'tol': 1e-13},\n  {'max_iter': 5000, 'n_components': 7, 'tol': 1e-09},\n  {'max_iter': 5000, 'n_components': 7, 'tol': 1e-10},\n  {'max_iter': 5000, 'n_components': 7, 'tol': 1e-11},\n  {'max_iter': 5000, 'n_components': 7, 'tol': 1e-12},\n  {'max_iter': 5000, 'n_components': 7, 'tol': 1e-13},\n  {'max_iter': 5000, 'n_components': 8, 'tol': 1e-09},\n  {'max_iter': 5000, 'n_components': 8, 'tol': 1e-10},\n  {'max_iter': 5000, 'n_components': 8, 'tol': 1e-11},\n  {'max_iter': 5000, 'n_components': 8, 'tol': 1e-12},\n  {'max_iter': 5000, 'n_components': 8, 'tol': 1e-13},\n  {'max_iter': 5000, 'n_components': 9, 'tol': 1e-09},\n  {'max_iter': 5000, 'n_components': 9, 'tol': 1e-10},\n  {'max_iter': 5000, 'n_components': 9, 'tol': 1e-11},\n  {'max_iter': 5000, 'n_components': 9, 'tol': 1e-12},\n  {'max_iter': 5000, 'n_components': 9, 'tol': 1e-13},\n  {'max_iter': 5000, 'n_components': 10, 'tol': 1e-09},\n  {'max_iter': 5000, 'n_components': 10, 'tol': 1e-10},\n  {'max_iter': 5000, 'n_components': 10, 'tol': 1e-11},\n  {'max_iter': 5000, 'n_components': 10, 'tol': 1e-12},\n  {'max_iter': 5000, 'n_components': 10, 'tol': 1e-13},\n  {'max_iter': 5000, 'n_components': 11, 'tol': 1e-09},\n  {'max_iter': 5000, 'n_components': 11, 'tol': 1e-10},\n  {'max_iter': 5000, 'n_components': 11, 'tol': 1e-11},\n  {'max_iter': 5000, 'n_components': 11, 'tol': 1e-12},\n  {'max_iter': 5000, 'n_components': 11, 'tol': 1e-13},\n  {'max_iter': 5000, 'n_components': 12, 'tol': 1e-09},\n  {'max_iter': 5000, 'n_components': 12, 'tol': 1e-10},\n  {'max_iter': 5000, 'n_components': 12, 'tol': 1e-11},\n  {'max_iter': 5000, 'n_components': 12, 'tol': 1e-12},\n  {'max_iter': 5000, 'n_components': 12, 'tol': 1e-13},\n  {'max_iter': 10000, 'n_components': 1, 'tol': 1e-09},\n  {'max_iter': 10000, 'n_components': 1, 'tol': 1e-10},\n  {'max_iter': 10000, 'n_components': 1, 'tol': 1e-11},\n  {'max_iter': 10000, 'n_components': 1, 'tol': 1e-12},\n  {'max_iter': 10000, 'n_components': 1, 'tol': 1e-13},\n  {'max_iter': 10000, 'n_components': 2, 'tol': 1e-09},\n  {'max_iter': 10000, 'n_components': 2, 'tol': 1e-10},\n  {'max_iter': 10000, 'n_components': 2, 'tol': 1e-11},\n  {'max_iter': 10000, 'n_components': 2, 'tol': 1e-12},\n  {'max_iter': 10000, 'n_components': 2, 'tol': 1e-13},\n  {'max_iter': 10000, 'n_components': 3, 'tol': 1e-09},\n  {'max_iter': 10000, 'n_components': 3, 'tol': 1e-10},\n  {'max_iter': 10000, 'n_components': 3, 'tol': 1e-11},\n  {'max_iter': 10000, 'n_components': 3, 'tol': 1e-12},\n  {'max_iter': 10000, 'n_components': 3, 'tol': 1e-13},\n  {'max_iter': 10000, 'n_components': 4, 'tol': 1e-09},\n  {'max_iter': 10000, 'n_components': 4, 'tol': 1e-10},\n  {'max_iter': 10000, 'n_components': 4, 'tol': 1e-11},\n  {'max_iter': 10000, 'n_components': 4, 'tol': 1e-12},\n  {'max_iter': 10000, 'n_components': 4, 'tol': 1e-13},\n  {'max_iter': 10000, 'n_components': 5, 'tol': 1e-09},\n  {'max_iter': 10000, 'n_components': 5, 'tol': 1e-10},\n  {'max_iter': 10000, 'n_components': 5, 'tol': 1e-11},\n  {'max_iter': 10000, 'n_components': 5, 'tol': 1e-12},\n  {'max_iter': 10000, 'n_components': 5, 'tol': 1e-13},\n  {'max_iter': 10000, 'n_components': 6, 'tol': 1e-09},\n  {'max_iter': 10000, 'n_components': 6, 'tol': 1e-10},\n  {'max_iter': 10000, 'n_components': 6, 'tol': 1e-11},\n  {'max_iter': 10000, 'n_components': 6, 'tol': 1e-12},\n  {'max_iter': 10000, 'n_components': 6, 'tol': 1e-13},\n  {'max_iter': 10000, 'n_components': 7, 'tol': 1e-09},\n  {'max_iter': 10000, 'n_components': 7, 'tol': 1e-10},\n  {'max_iter': 10000, 'n_components': 7, 'tol': 1e-11},\n  {'max_iter': 10000, 'n_components': 7, 'tol': 1e-12},\n  {'max_iter': 10000, 'n_components': 7, 'tol': 1e-13},\n  {'max_iter': 10000, 'n_components': 8, 'tol': 1e-09},\n  {'max_iter': 10000, 'n_components': 8, 'tol': 1e-10},\n  {'max_iter': 10000, 'n_components': 8, 'tol': 1e-11},\n  {'max_iter': 10000, 'n_components': 8, 'tol': 1e-12},\n  {'max_iter': 10000, 'n_components': 8, 'tol': 1e-13},\n  {'max_iter': 10000, 'n_components': 9, 'tol': 1e-09},\n  {'max_iter': 10000, 'n_components': 9, 'tol': 1e-10},\n  {'max_iter': 10000, 'n_components': 9, 'tol': 1e-11},\n  {'max_iter': 10000, 'n_components': 9, 'tol': 1e-12},\n  {'max_iter': 10000, 'n_components': 9, 'tol': 1e-13},\n  {'max_iter': 10000, 'n_components': 10, 'tol': 1e-09},\n  {'max_iter': 10000, 'n_components': 10, 'tol': 1e-10},\n  {'max_iter': 10000, 'n_components': 10, 'tol': 1e-11},\n  {'max_iter': 10000, 'n_components': 10, 'tol': 1e-12},\n  {'max_iter': 10000, 'n_components': 10, 'tol': 1e-13},\n  {'max_iter': 10000, 'n_components': 11, 'tol': 1e-09},\n  {'max_iter': 10000, 'n_components': 11, 'tol': 1e-10},\n  {'max_iter': 10000, 'n_components': 11, 'tol': 1e-11},\n  {'max_iter': 10000, 'n_components': 11, 'tol': 1e-12},\n  {'max_iter': 10000, 'n_components': 11, 'tol': 1e-13},\n  {'max_iter': 10000, 'n_components': 12, 'tol': 1e-09},\n  {'max_iter': 10000, 'n_components': 12, 'tol': 1e-10},\n  {'max_iter': 10000, 'n_components': 12, 'tol': 1e-11},\n  {'max_iter': 10000, 'n_components': 12, 'tol': 1e-12},\n  {'max_iter': 10000, 'n_components': 12, 'tol': 1e-13}],\n 'split0_test_score': array([-0.1950422 , -0.1950422 , -0.1950422 , -0.1950422 , -0.1950422 ,\n        -0.1949061 , -0.1949061 , -0.1949061 , -0.1949061 , -0.1949061 ,\n        -0.16154697, -0.16154697, -0.16154697, -0.16154697, -0.16154697,\n        -0.1680156 , -0.1680156 , -0.1680156 , -0.1680156 , -0.1680156 ,\n        -0.16708072, -0.16708072, -0.16708072, -0.16708072, -0.16708072,\n        -0.18272198, -0.18272198, -0.18272198, -0.18272198, -0.18272198,\n        -0.18235228, -0.18235228, -0.18235228, -0.18235228, -0.18235228,\n        -0.1780491 , -0.1780491 , -0.1780491 , -0.1780491 , -0.1780491 ,\n        -0.18514777, -0.18514777, -0.18514777, -0.18514777, -0.18514777,\n        -0.17972286, -0.17972286, -0.17972286, -0.17972286, -0.17972286,\n        -0.17648519, -0.17648519, -0.17648519, -0.17648519, -0.17648519,\n        -0.17856272, -0.17856272, -0.17856272, -0.17856272, -0.17856272,\n        -0.1950422 , -0.1950422 , -0.1950422 , -0.1950422 , -0.1950422 ,\n        -0.1949061 , -0.1949061 , -0.1949061 , -0.1949061 , -0.1949061 ,\n        -0.16154697, -0.16154697, -0.16154697, -0.16154697, -0.16154697,\n        -0.1680156 , -0.1680156 , -0.1680156 , -0.1680156 , -0.1680156 ,\n        -0.16708072, -0.16708072, -0.16708072, -0.16708072, -0.16708072,\n        -0.18272198, -0.18272198, -0.18272198, -0.18272198, -0.18272198,\n        -0.18235228, -0.18235228, -0.18235228, -0.18235228, -0.18235228,\n        -0.1780491 , -0.1780491 , -0.1780491 , -0.1780491 , -0.1780491 ,\n        -0.18514777, -0.18514777, -0.18514777, -0.18514777, -0.18514777,\n        -0.17972286, -0.17972286, -0.17972286, -0.17972286, -0.17972286,\n        -0.17648519, -0.17648519, -0.17648519, -0.17648519, -0.17648519,\n        -0.17856272, -0.17856272, -0.17856272, -0.17856272, -0.17856272,\n        -0.1950422 , -0.1950422 , -0.1950422 , -0.1950422 , -0.1950422 ,\n        -0.1949061 , -0.1949061 , -0.1949061 , -0.1949061 , -0.1949061 ,\n        -0.16154697, -0.16154697, -0.16154697, -0.16154697, -0.16154697,\n        -0.1680156 , -0.1680156 , -0.1680156 , -0.1680156 , -0.1680156 ,\n        -0.16708072, -0.16708072, -0.16708072, -0.16708072, -0.16708072,\n        -0.18272198, -0.18272198, -0.18272198, -0.18272198, -0.18272198,\n        -0.18235228, -0.18235228, -0.18235228, -0.18235228, -0.18235228,\n        -0.1780491 , -0.1780491 , -0.1780491 , -0.1780491 , -0.1780491 ,\n        -0.18514777, -0.18514777, -0.18514777, -0.18514777, -0.18514777,\n        -0.17972286, -0.17972286, -0.17972286, -0.17972286, -0.17972286,\n        -0.17648519, -0.17648519, -0.17648519, -0.17648519, -0.17648519,\n        -0.17856272, -0.17856272, -0.17856272, -0.17856272, -0.17856272,\n        -0.1950422 , -0.1950422 , -0.1950422 , -0.1950422 , -0.1950422 ,\n        -0.1949061 , -0.1949061 , -0.1949061 , -0.1949061 , -0.1949061 ,\n        -0.16154697, -0.16154697, -0.16154697, -0.16154697, -0.16154697,\n        -0.1680156 , -0.1680156 , -0.1680156 , -0.1680156 , -0.1680156 ,\n        -0.16708072, -0.16708072, -0.16708072, -0.16708072, -0.16708072,\n        -0.18272198, -0.18272198, -0.18272198, -0.18272198, -0.18272198,\n        -0.18235228, -0.18235228, -0.18235228, -0.18235228, -0.18235228,\n        -0.1780491 , -0.1780491 , -0.1780491 , -0.1780491 , -0.1780491 ,\n        -0.18514777, -0.18514777, -0.18514777, -0.18514777, -0.18514777,\n        -0.17972286, -0.17972286, -0.17972286, -0.17972286, -0.17972286,\n        -0.17648519, -0.17648519, -0.17648519, -0.17648519, -0.17648519,\n        -0.17856272, -0.17856272, -0.17856272, -0.17856272, -0.17856272]),\n 'split1_test_score': array([-0.25376869, -0.25376869, -0.25376869, -0.25376869, -0.25376869,\n        -0.32568851, -0.32568851, -0.32568851, -0.32568851, -0.32568851,\n        -0.29916058, -0.29916058, -0.29916058, -0.29916058, -0.29916058,\n        -0.31330545, -0.31330545, -0.31330545, -0.31330545, -0.31330545,\n        -0.26705391, -0.26705391, -0.26705391, -0.26705391, -0.26705391,\n        -0.26404029, -0.26404029, -0.26404029, -0.26404029, -0.26404029,\n        -0.27797101, -0.27797101, -0.27797101, -0.27797101, -0.27797101,\n        -0.27752042, -0.27752042, -0.27752042, -0.27752042, -0.27752042,\n        -0.27775167, -0.27775167, -0.27775167, -0.27775167, -0.27775167,\n        -0.28191335, -0.28191335, -0.28191335, -0.28191335, -0.28191335,\n        -0.28835006, -0.28835006, -0.28835006, -0.28835006, -0.28835006,\n        -0.28698147, -0.28698147, -0.28698147, -0.28698147, -0.28698147,\n        -0.25376869, -0.25376869, -0.25376869, -0.25376869, -0.25376869,\n        -0.32568851, -0.32568851, -0.32568851, -0.32568851, -0.32568851,\n        -0.29916058, -0.29916058, -0.29916058, -0.29916058, -0.29916058,\n        -0.31330545, -0.31330545, -0.31330545, -0.31330545, -0.31330545,\n        -0.26705391, -0.26705391, -0.26705391, -0.26705391, -0.26705391,\n        -0.26404029, -0.26404029, -0.26404029, -0.26404029, -0.26404029,\n        -0.27797101, -0.27797101, -0.27797101, -0.27797101, -0.27797101,\n        -0.27752042, -0.27752042, -0.27752042, -0.27752042, -0.27752042,\n        -0.27775167, -0.27775167, -0.27775167, -0.27775167, -0.27775167,\n        -0.28191335, -0.28191335, -0.28191335, -0.28191335, -0.28191335,\n        -0.28835006, -0.28835006, -0.28835006, -0.28835006, -0.28835006,\n        -0.28698147, -0.28698147, -0.28698147, -0.28698147, -0.28698147,\n        -0.25376869, -0.25376869, -0.25376869, -0.25376869, -0.25376869,\n        -0.32568851, -0.32568851, -0.32568851, -0.32568851, -0.32568851,\n        -0.29916058, -0.29916058, -0.29916058, -0.29916058, -0.29916058,\n        -0.31330545, -0.31330545, -0.31330545, -0.31330545, -0.31330545,\n        -0.26705391, -0.26705391, -0.26705391, -0.26705391, -0.26705391,\n        -0.26404029, -0.26404029, -0.26404029, -0.26404029, -0.26404029,\n        -0.27797101, -0.27797101, -0.27797101, -0.27797101, -0.27797101,\n        -0.27752042, -0.27752042, -0.27752042, -0.27752042, -0.27752042,\n        -0.27775167, -0.27775167, -0.27775167, -0.27775167, -0.27775167,\n        -0.28191335, -0.28191335, -0.28191335, -0.28191335, -0.28191335,\n        -0.28835006, -0.28835006, -0.28835006, -0.28835006, -0.28835006,\n        -0.28698147, -0.28698147, -0.28698147, -0.28698147, -0.28698147,\n        -0.25376869, -0.25376869, -0.25376869, -0.25376869, -0.25376869,\n        -0.32568851, -0.32568851, -0.32568851, -0.32568851, -0.32568851,\n        -0.29916058, -0.29916058, -0.29916058, -0.29916058, -0.29916058,\n        -0.31330545, -0.31330545, -0.31330545, -0.31330545, -0.31330545,\n        -0.26705391, -0.26705391, -0.26705391, -0.26705391, -0.26705391,\n        -0.26404029, -0.26404029, -0.26404029, -0.26404029, -0.26404029,\n        -0.27797101, -0.27797101, -0.27797101, -0.27797101, -0.27797101,\n        -0.27752042, -0.27752042, -0.27752042, -0.27752042, -0.27752042,\n        -0.27775167, -0.27775167, -0.27775167, -0.27775167, -0.27775167,\n        -0.28191335, -0.28191335, -0.28191335, -0.28191335, -0.28191335,\n        -0.28835006, -0.28835006, -0.28835006, -0.28835006, -0.28835006,\n        -0.28698147, -0.28698147, -0.28698147, -0.28698147, -0.28698147]),\n 'split2_test_score': array([-0.16725382, -0.16725382, -0.16725382, -0.16725382, -0.16725382,\n        -0.0632095 , -0.0632095 , -0.0632095 , -0.0632095 , -0.0632095 ,\n        -0.12045055, -0.12045055, -0.12045055, -0.12045055, -0.12045055,\n        -0.14330373, -0.14330373, -0.14330373, -0.14330373, -0.14330373,\n        -0.15150292, -0.15150292, -0.15150292, -0.15150292, -0.15150292,\n        -0.17392976, -0.17392976, -0.17392976, -0.17392976, -0.17392976,\n        -0.20371382, -0.20371382, -0.20371382, -0.20371382, -0.20371382,\n        -0.21572141, -0.21572141, -0.21572141, -0.21572141, -0.21572141,\n        -0.21471718, -0.21471718, -0.21471718, -0.21471718, -0.21471718,\n        -0.20843653, -0.20843653, -0.20843653, -0.20843653, -0.20843653,\n        -0.21465085, -0.21465085, -0.21465085, -0.21465085, -0.21465085,\n        -0.21855337, -0.21855337, -0.21855337, -0.21855337, -0.21855337,\n        -0.16725382, -0.16725382, -0.16725382, -0.16725382, -0.16725382,\n        -0.0632095 , -0.0632095 , -0.0632095 , -0.0632095 , -0.0632095 ,\n        -0.12045055, -0.12045055, -0.12045055, -0.12045055, -0.12045055,\n        -0.14330373, -0.14330373, -0.14330373, -0.14330373, -0.14330373,\n        -0.15150292, -0.15150292, -0.15150292, -0.15150292, -0.15150292,\n        -0.17392976, -0.17392976, -0.17392976, -0.17392976, -0.17392976,\n        -0.20371382, -0.20371382, -0.20371382, -0.20371382, -0.20371382,\n        -0.21572141, -0.21572141, -0.21572141, -0.21572141, -0.21572141,\n        -0.21471718, -0.21471718, -0.21471718, -0.21471718, -0.21471718,\n        -0.20843653, -0.20843653, -0.20843653, -0.20843653, -0.20843653,\n        -0.21465085, -0.21465085, -0.21465085, -0.21465085, -0.21465085,\n        -0.21855337, -0.21855337, -0.21855337, -0.21855337, -0.21855337,\n        -0.16725382, -0.16725382, -0.16725382, -0.16725382, -0.16725382,\n        -0.0632095 , -0.0632095 , -0.0632095 , -0.0632095 , -0.0632095 ,\n        -0.12045055, -0.12045055, -0.12045055, -0.12045055, -0.12045055,\n        -0.14330373, -0.14330373, -0.14330373, -0.14330373, -0.14330373,\n        -0.15150292, -0.15150292, -0.15150292, -0.15150292, -0.15150292,\n        -0.17392976, -0.17392976, -0.17392976, -0.17392976, -0.17392976,\n        -0.20371382, -0.20371382, -0.20371382, -0.20371382, -0.20371382,\n        -0.21572141, -0.21572141, -0.21572141, -0.21572141, -0.21572141,\n        -0.21471718, -0.21471718, -0.21471718, -0.21471718, -0.21471718,\n        -0.20843653, -0.20843653, -0.20843653, -0.20843653, -0.20843653,\n        -0.21465085, -0.21465085, -0.21465085, -0.21465085, -0.21465085,\n        -0.21855337, -0.21855337, -0.21855337, -0.21855337, -0.21855337,\n        -0.16725382, -0.16725382, -0.16725382, -0.16725382, -0.16725382,\n        -0.0632095 , -0.0632095 , -0.0632095 , -0.0632095 , -0.0632095 ,\n        -0.12045055, -0.12045055, -0.12045055, -0.12045055, -0.12045055,\n        -0.14330373, -0.14330373, -0.14330373, -0.14330373, -0.14330373,\n        -0.15150292, -0.15150292, -0.15150292, -0.15150292, -0.15150292,\n        -0.17392976, -0.17392976, -0.17392976, -0.17392976, -0.17392976,\n        -0.20371382, -0.20371382, -0.20371382, -0.20371382, -0.20371382,\n        -0.21572141, -0.21572141, -0.21572141, -0.21572141, -0.21572141,\n        -0.21471718, -0.21471718, -0.21471718, -0.21471718, -0.21471718,\n        -0.20843653, -0.20843653, -0.20843653, -0.20843653, -0.20843653,\n        -0.21465085, -0.21465085, -0.21465085, -0.21465085, -0.21465085,\n        -0.21855337, -0.21855337, -0.21855337, -0.21855337, -0.21855337]),\n 'split3_test_score': array([-0.26949024, -0.26949024, -0.26949024, -0.26949024, -0.26949024,\n        -0.26109861, -0.26109861, -0.26109861, -0.26109861, -0.26109861,\n        -0.25086109, -0.25086109, -0.25086109, -0.25086109, -0.25086109,\n        -0.25743442, -0.25743442, -0.25743442, -0.25743442, -0.25743442,\n        -0.25122503, -0.25122503, -0.25122503, -0.25122503, -0.25122503,\n        -0.27719882, -0.27719882, -0.27719882, -0.27719882, -0.27719882,\n        -0.27202785, -0.27202785, -0.27202785, -0.27202785, -0.27202785,\n        -0.28793775, -0.28793775, -0.28793775, -0.28793775, -0.28793775,\n        -0.27849859, -0.27849859, -0.27849859, -0.27849859, -0.27849859,\n        -0.28977132, -0.28977132, -0.28977132, -0.28977132, -0.28977132,\n        -0.29120601, -0.29120601, -0.29120601, -0.29120601, -0.29120601,\n        -0.29076427, -0.29076427, -0.29076427, -0.29076427, -0.29076427,\n        -0.26949024, -0.26949024, -0.26949024, -0.26949024, -0.26949024,\n        -0.26109861, -0.26109861, -0.26109861, -0.26109861, -0.26109861,\n        -0.25086109, -0.25086109, -0.25086109, -0.25086109, -0.25086109,\n        -0.25743442, -0.25743442, -0.25743442, -0.25743442, -0.25743442,\n        -0.25122503, -0.25122503, -0.25122503, -0.25122503, -0.25122503,\n        -0.27719882, -0.27719882, -0.27719882, -0.27719882, -0.27719882,\n        -0.27202785, -0.27202785, -0.27202785, -0.27202785, -0.27202785,\n        -0.28793775, -0.28793775, -0.28793775, -0.28793775, -0.28793775,\n        -0.27849859, -0.27849859, -0.27849859, -0.27849859, -0.27849859,\n        -0.28977132, -0.28977132, -0.28977132, -0.28977132, -0.28977132,\n        -0.29120601, -0.29120601, -0.29120601, -0.29120601, -0.29120601,\n        -0.29076427, -0.29076427, -0.29076427, -0.29076427, -0.29076427,\n        -0.26949024, -0.26949024, -0.26949024, -0.26949024, -0.26949024,\n        -0.26109861, -0.26109861, -0.26109861, -0.26109861, -0.26109861,\n        -0.25086109, -0.25086109, -0.25086109, -0.25086109, -0.25086109,\n        -0.25743442, -0.25743442, -0.25743442, -0.25743442, -0.25743442,\n        -0.25122503, -0.25122503, -0.25122503, -0.25122503, -0.25122503,\n        -0.27719882, -0.27719882, -0.27719882, -0.27719882, -0.27719882,\n        -0.27202785, -0.27202785, -0.27202785, -0.27202785, -0.27202785,\n        -0.28793775, -0.28793775, -0.28793775, -0.28793775, -0.28793775,\n        -0.27849859, -0.27849859, -0.27849859, -0.27849859, -0.27849859,\n        -0.28977132, -0.28977132, -0.28977132, -0.28977132, -0.28977132,\n        -0.29120601, -0.29120601, -0.29120601, -0.29120601, -0.29120601,\n        -0.29076427, -0.29076427, -0.29076427, -0.29076427, -0.29076427,\n        -0.26949024, -0.26949024, -0.26949024, -0.26949024, -0.26949024,\n        -0.26109861, -0.26109861, -0.26109861, -0.26109861, -0.26109861,\n        -0.25086109, -0.25086109, -0.25086109, -0.25086109, -0.25086109,\n        -0.25743442, -0.25743442, -0.25743442, -0.25743442, -0.25743442,\n        -0.25122503, -0.25122503, -0.25122503, -0.25122503, -0.25122503,\n        -0.27719882, -0.27719882, -0.27719882, -0.27719882, -0.27719882,\n        -0.27202785, -0.27202785, -0.27202785, -0.27202785, -0.27202785,\n        -0.28793775, -0.28793775, -0.28793775, -0.28793775, -0.28793775,\n        -0.27849859, -0.27849859, -0.27849859, -0.27849859, -0.27849859,\n        -0.28977132, -0.28977132, -0.28977132, -0.28977132, -0.28977132,\n        -0.29120601, -0.29120601, -0.29120601, -0.29120601, -0.29120601,\n        -0.29076427, -0.29076427, -0.29076427, -0.29076427, -0.29076427]),\n 'split4_test_score': array([-0.23712102, -0.23712102, -0.23712102, -0.23712102, -0.23712102,\n        -0.23674972, -0.23674972, -0.23674972, -0.23674972, -0.23674972,\n        -0.20404332, -0.20404332, -0.20404332, -0.20404332, -0.20404332,\n        -0.23569958, -0.23569958, -0.23569958, -0.23569958, -0.23569958,\n        -0.28997859, -0.28997859, -0.28997859, -0.28997859, -0.28997859,\n        -0.29888319, -0.29888319, -0.29888319, -0.29888319, -0.29888319,\n        -0.28397968, -0.28397968, -0.28397968, -0.28397968, -0.28397968,\n        -0.26089304, -0.26089304, -0.26089304, -0.26089304, -0.26089304,\n        -0.26549099, -0.26549099, -0.26549099, -0.26549099, -0.26549099,\n        -0.25525659, -0.25525659, -0.25525659, -0.25525659, -0.25525659,\n        -0.25035575, -0.25035575, -0.25035575, -0.25035575, -0.25035575,\n        -0.24869702, -0.24869702, -0.24869702, -0.24869702, -0.24869702,\n        -0.23712102, -0.23712102, -0.23712102, -0.23712102, -0.23712102,\n        -0.23674972, -0.23674972, -0.23674972, -0.23674972, -0.23674972,\n        -0.20404332, -0.20404332, -0.20404332, -0.20404332, -0.20404332,\n        -0.23569958, -0.23569958, -0.23569958, -0.23569958, -0.23569958,\n        -0.28997859, -0.28997859, -0.28997859, -0.28997859, -0.28997859,\n        -0.29888319, -0.29888319, -0.29888319, -0.29888319, -0.29888319,\n        -0.28397968, -0.28397968, -0.28397968, -0.28397968, -0.28397968,\n        -0.26089304, -0.26089304, -0.26089304, -0.26089304, -0.26089304,\n        -0.26549099, -0.26549099, -0.26549099, -0.26549099, -0.26549099,\n        -0.25525659, -0.25525659, -0.25525659, -0.25525659, -0.25525659,\n        -0.25035575, -0.25035575, -0.25035575, -0.25035575, -0.25035575,\n        -0.24869702, -0.24869702, -0.24869702, -0.24869702, -0.24869702,\n        -0.23712102, -0.23712102, -0.23712102, -0.23712102, -0.23712102,\n        -0.23674972, -0.23674972, -0.23674972, -0.23674972, -0.23674972,\n        -0.20404332, -0.20404332, -0.20404332, -0.20404332, -0.20404332,\n        -0.23569958, -0.23569958, -0.23569958, -0.23569958, -0.23569958,\n        -0.28997859, -0.28997859, -0.28997859, -0.28997859, -0.28997859,\n        -0.29888319, -0.29888319, -0.29888319, -0.29888319, -0.29888319,\n        -0.28397968, -0.28397968, -0.28397968, -0.28397968, -0.28397968,\n        -0.26089304, -0.26089304, -0.26089304, -0.26089304, -0.26089304,\n        -0.26549099, -0.26549099, -0.26549099, -0.26549099, -0.26549099,\n        -0.25525659, -0.25525659, -0.25525659, -0.25525659, -0.25525659,\n        -0.25035575, -0.25035575, -0.25035575, -0.25035575, -0.25035575,\n        -0.24869702, -0.24869702, -0.24869702, -0.24869702, -0.24869702,\n        -0.23712102, -0.23712102, -0.23712102, -0.23712102, -0.23712102,\n        -0.23674972, -0.23674972, -0.23674972, -0.23674972, -0.23674972,\n        -0.20404332, -0.20404332, -0.20404332, -0.20404332, -0.20404332,\n        -0.23569958, -0.23569958, -0.23569958, -0.23569958, -0.23569958,\n        -0.28997859, -0.28997859, -0.28997859, -0.28997859, -0.28997859,\n        -0.29888319, -0.29888319, -0.29888319, -0.29888319, -0.29888319,\n        -0.28397968, -0.28397968, -0.28397968, -0.28397968, -0.28397968,\n        -0.26089304, -0.26089304, -0.26089304, -0.26089304, -0.26089304,\n        -0.26549099, -0.26549099, -0.26549099, -0.26549099, -0.26549099,\n        -0.25525659, -0.25525659, -0.25525659, -0.25525659, -0.25525659,\n        -0.25035575, -0.25035575, -0.25035575, -0.25035575, -0.25035575,\n        -0.24869702, -0.24869702, -0.24869702, -0.24869702, -0.24869702]),\n 'split5_test_score': array([-0.25421654, -0.25421654, -0.25421654, -0.25421654, -0.25421654,\n        -0.2807738 , -0.2807738 , -0.2807738 , -0.2807738 , -0.2807738 ,\n        -0.22019767, -0.22019767, -0.22019767, -0.22019767, -0.22019767,\n        -0.17859275, -0.17859275, -0.17859275, -0.17859275, -0.17859275,\n        -0.21561635, -0.21561635, -0.21561635, -0.21561635, -0.21561635,\n        -0.20098042, -0.20098042, -0.20098042, -0.20098042, -0.20098042,\n        -0.20821861, -0.20821861, -0.20821861, -0.20821861, -0.20821861,\n        -0.20748441, -0.20748441, -0.20748441, -0.20748441, -0.20748441,\n        -0.20117357, -0.20117357, -0.20117357, -0.20117357, -0.20117357,\n        -0.20539355, -0.20539355, -0.20539355, -0.20539355, -0.20539355,\n        -0.20227839, -0.20227839, -0.20227839, -0.20227839, -0.20227839,\n        -0.19936806, -0.19936806, -0.19936806, -0.19936806, -0.19936806,\n        -0.25421654, -0.25421654, -0.25421654, -0.25421654, -0.25421654,\n        -0.2807738 , -0.2807738 , -0.2807738 , -0.2807738 , -0.2807738 ,\n        -0.22019767, -0.22019767, -0.22019767, -0.22019767, -0.22019767,\n        -0.17859275, -0.17859275, -0.17859275, -0.17859275, -0.17859275,\n        -0.21561635, -0.21561635, -0.21561635, -0.21561635, -0.21561635,\n        -0.20098042, -0.20098042, -0.20098042, -0.20098042, -0.20098042,\n        -0.20821861, -0.20821861, -0.20821861, -0.20821861, -0.20821861,\n        -0.20748441, -0.20748441, -0.20748441, -0.20748441, -0.20748441,\n        -0.20117357, -0.20117357, -0.20117357, -0.20117357, -0.20117357,\n        -0.20539355, -0.20539355, -0.20539355, -0.20539355, -0.20539355,\n        -0.20227839, -0.20227839, -0.20227839, -0.20227839, -0.20227839,\n        -0.19936806, -0.19936806, -0.19936806, -0.19936806, -0.19936806,\n        -0.25421654, -0.25421654, -0.25421654, -0.25421654, -0.25421654,\n        -0.2807738 , -0.2807738 , -0.2807738 , -0.2807738 , -0.2807738 ,\n        -0.22019767, -0.22019767, -0.22019767, -0.22019767, -0.22019767,\n        -0.17859275, -0.17859275, -0.17859275, -0.17859275, -0.17859275,\n        -0.21561635, -0.21561635, -0.21561635, -0.21561635, -0.21561635,\n        -0.20098042, -0.20098042, -0.20098042, -0.20098042, -0.20098042,\n        -0.20821861, -0.20821861, -0.20821861, -0.20821861, -0.20821861,\n        -0.20748441, -0.20748441, -0.20748441, -0.20748441, -0.20748441,\n        -0.20117357, -0.20117357, -0.20117357, -0.20117357, -0.20117357,\n        -0.20539355, -0.20539355, -0.20539355, -0.20539355, -0.20539355,\n        -0.20227839, -0.20227839, -0.20227839, -0.20227839, -0.20227839,\n        -0.19936806, -0.19936806, -0.19936806, -0.19936806, -0.19936806,\n        -0.25421654, -0.25421654, -0.25421654, -0.25421654, -0.25421654,\n        -0.2807738 , -0.2807738 , -0.2807738 , -0.2807738 , -0.2807738 ,\n        -0.22019767, -0.22019767, -0.22019767, -0.22019767, -0.22019767,\n        -0.17859275, -0.17859275, -0.17859275, -0.17859275, -0.17859275,\n        -0.21561635, -0.21561635, -0.21561635, -0.21561635, -0.21561635,\n        -0.20098042, -0.20098042, -0.20098042, -0.20098042, -0.20098042,\n        -0.20821861, -0.20821861, -0.20821861, -0.20821861, -0.20821861,\n        -0.20748441, -0.20748441, -0.20748441, -0.20748441, -0.20748441,\n        -0.20117357, -0.20117357, -0.20117357, -0.20117357, -0.20117357,\n        -0.20539355, -0.20539355, -0.20539355, -0.20539355, -0.20539355,\n        -0.20227839, -0.20227839, -0.20227839, -0.20227839, -0.20227839,\n        -0.19936806, -0.19936806, -0.19936806, -0.19936806, -0.19936806]),\n 'split6_test_score': array([-0.16224005, -0.16224005, -0.16224005, -0.16224005, -0.16224005,\n        -0.17179083, -0.17179083, -0.17179083, -0.17179083, -0.17179083,\n        -0.18215398, -0.18215398, -0.18215398, -0.18215398, -0.18215398,\n        -0.20459457, -0.20459457, -0.20459457, -0.20459457, -0.20459457,\n        -0.19691621, -0.19691621, -0.19691621, -0.19691621, -0.19691621,\n        -0.18204369, -0.18204369, -0.18204369, -0.18204369, -0.18204369,\n        -0.20506763, -0.20506763, -0.20506763, -0.20506763, -0.20506763,\n        -0.21416227, -0.21416227, -0.21416227, -0.21416227, -0.21416227,\n        -0.2080562 , -0.2080562 , -0.2080562 , -0.2080562 , -0.2080562 ,\n        -0.21654352, -0.21654352, -0.21654352, -0.21654352, -0.21654352,\n        -0.21915192, -0.21915192, -0.21915192, -0.21915192, -0.21915192,\n        -0.22019182, -0.22019182, -0.22019182, -0.22019182, -0.22019182,\n        -0.16224005, -0.16224005, -0.16224005, -0.16224005, -0.16224005,\n        -0.17179083, -0.17179083, -0.17179083, -0.17179083, -0.17179083,\n        -0.18215398, -0.18215398, -0.18215398, -0.18215398, -0.18215398,\n        -0.20459457, -0.20459457, -0.20459457, -0.20459457, -0.20459457,\n        -0.19691621, -0.19691621, -0.19691621, -0.19691621, -0.19691621,\n        -0.18204369, -0.18204369, -0.18204369, -0.18204369, -0.18204369,\n        -0.20506763, -0.20506763, -0.20506763, -0.20506763, -0.20506763,\n        -0.21416227, -0.21416227, -0.21416227, -0.21416227, -0.21416227,\n        -0.2080562 , -0.2080562 , -0.2080562 , -0.2080562 , -0.2080562 ,\n        -0.21654352, -0.21654352, -0.21654352, -0.21654352, -0.21654352,\n        -0.21915192, -0.21915192, -0.21915192, -0.21915192, -0.21915192,\n        -0.22019182, -0.22019182, -0.22019182, -0.22019182, -0.22019182,\n        -0.16224005, -0.16224005, -0.16224005, -0.16224005, -0.16224005,\n        -0.17179083, -0.17179083, -0.17179083, -0.17179083, -0.17179083,\n        -0.18215398, -0.18215398, -0.18215398, -0.18215398, -0.18215398,\n        -0.20459457, -0.20459457, -0.20459457, -0.20459457, -0.20459457,\n        -0.19691621, -0.19691621, -0.19691621, -0.19691621, -0.19691621,\n        -0.18204369, -0.18204369, -0.18204369, -0.18204369, -0.18204369,\n        -0.20506763, -0.20506763, -0.20506763, -0.20506763, -0.20506763,\n        -0.21416227, -0.21416227, -0.21416227, -0.21416227, -0.21416227,\n        -0.2080562 , -0.2080562 , -0.2080562 , -0.2080562 , -0.2080562 ,\n        -0.21654352, -0.21654352, -0.21654352, -0.21654352, -0.21654352,\n        -0.21915192, -0.21915192, -0.21915192, -0.21915192, -0.21915192,\n        -0.22019182, -0.22019182, -0.22019182, -0.22019182, -0.22019182,\n        -0.16224005, -0.16224005, -0.16224005, -0.16224005, -0.16224005,\n        -0.17179083, -0.17179083, -0.17179083, -0.17179083, -0.17179083,\n        -0.18215398, -0.18215398, -0.18215398, -0.18215398, -0.18215398,\n        -0.20459457, -0.20459457, -0.20459457, -0.20459457, -0.20459457,\n        -0.19691621, -0.19691621, -0.19691621, -0.19691621, -0.19691621,\n        -0.18204369, -0.18204369, -0.18204369, -0.18204369, -0.18204369,\n        -0.20506763, -0.20506763, -0.20506763, -0.20506763, -0.20506763,\n        -0.21416227, -0.21416227, -0.21416227, -0.21416227, -0.21416227,\n        -0.2080562 , -0.2080562 , -0.2080562 , -0.2080562 , -0.2080562 ,\n        -0.21654352, -0.21654352, -0.21654352, -0.21654352, -0.21654352,\n        -0.21915192, -0.21915192, -0.21915192, -0.21915192, -0.21915192,\n        -0.22019182, -0.22019182, -0.22019182, -0.22019182, -0.22019182]),\n 'split7_test_score': array([-0.18314118, -0.18314118, -0.18314118, -0.18314118, -0.18314118,\n        -0.20162472, -0.20162472, -0.20162472, -0.20162472, -0.20162472,\n        -0.15714422, -0.15714422, -0.15714422, -0.15714422, -0.15714422,\n        -0.15513403, -0.15513403, -0.15513403, -0.15513403, -0.15513403,\n        -0.15186942, -0.15186942, -0.15186942, -0.15186942, -0.15186942,\n        -0.17566473, -0.17566473, -0.17566473, -0.17566473, -0.17566473,\n        -0.17502932, -0.17502932, -0.17502932, -0.17502932, -0.17502932,\n        -0.17986972, -0.17986972, -0.17986972, -0.17986972, -0.17986972,\n        -0.17608469, -0.17608469, -0.17608469, -0.17608469, -0.17608469,\n        -0.17669852, -0.17669852, -0.17669852, -0.17669852, -0.17669852,\n        -0.17713432, -0.17713432, -0.17713432, -0.17713432, -0.17713432,\n        -0.17495983, -0.17495983, -0.17495983, -0.17495983, -0.17495983,\n        -0.18314118, -0.18314118, -0.18314118, -0.18314118, -0.18314118,\n        -0.20162472, -0.20162472, -0.20162472, -0.20162472, -0.20162472,\n        -0.15714422, -0.15714422, -0.15714422, -0.15714422, -0.15714422,\n        -0.15513403, -0.15513403, -0.15513403, -0.15513403, -0.15513403,\n        -0.15186942, -0.15186942, -0.15186942, -0.15186942, -0.15186942,\n        -0.17566473, -0.17566473, -0.17566473, -0.17566473, -0.17566473,\n        -0.17502932, -0.17502932, -0.17502932, -0.17502932, -0.17502932,\n        -0.17986972, -0.17986972, -0.17986972, -0.17986972, -0.17986972,\n        -0.17608469, -0.17608469, -0.17608469, -0.17608469, -0.17608469,\n        -0.17669852, -0.17669852, -0.17669852, -0.17669852, -0.17669852,\n        -0.17713432, -0.17713432, -0.17713432, -0.17713432, -0.17713432,\n        -0.17495983, -0.17495983, -0.17495983, -0.17495983, -0.17495983,\n        -0.18314118, -0.18314118, -0.18314118, -0.18314118, -0.18314118,\n        -0.20162472, -0.20162472, -0.20162472, -0.20162472, -0.20162472,\n        -0.15714422, -0.15714422, -0.15714422, -0.15714422, -0.15714422,\n        -0.15513403, -0.15513403, -0.15513403, -0.15513403, -0.15513403,\n        -0.15186942, -0.15186942, -0.15186942, -0.15186942, -0.15186942,\n        -0.17566473, -0.17566473, -0.17566473, -0.17566473, -0.17566473,\n        -0.17502932, -0.17502932, -0.17502932, -0.17502932, -0.17502932,\n        -0.17986972, -0.17986972, -0.17986972, -0.17986972, -0.17986972,\n        -0.17608469, -0.17608469, -0.17608469, -0.17608469, -0.17608469,\n        -0.17669852, -0.17669852, -0.17669852, -0.17669852, -0.17669852,\n        -0.17713432, -0.17713432, -0.17713432, -0.17713432, -0.17713432,\n        -0.17495983, -0.17495983, -0.17495983, -0.17495983, -0.17495983,\n        -0.18314118, -0.18314118, -0.18314118, -0.18314118, -0.18314118,\n        -0.20162472, -0.20162472, -0.20162472, -0.20162472, -0.20162472,\n        -0.15714422, -0.15714422, -0.15714422, -0.15714422, -0.15714422,\n        -0.15513403, -0.15513403, -0.15513403, -0.15513403, -0.15513403,\n        -0.15186942, -0.15186942, -0.15186942, -0.15186942, -0.15186942,\n        -0.17566473, -0.17566473, -0.17566473, -0.17566473, -0.17566473,\n        -0.17502932, -0.17502932, -0.17502932, -0.17502932, -0.17502932,\n        -0.17986972, -0.17986972, -0.17986972, -0.17986972, -0.17986972,\n        -0.17608469, -0.17608469, -0.17608469, -0.17608469, -0.17608469,\n        -0.17669852, -0.17669852, -0.17669852, -0.17669852, -0.17669852,\n        -0.17713432, -0.17713432, -0.17713432, -0.17713432, -0.17713432,\n        -0.17495983, -0.17495983, -0.17495983, -0.17495983, -0.17495983]),\n 'split8_test_score': array([-0.27170882, -0.27170882, -0.27170882, -0.27170882, -0.27170882,\n        -0.19910679, -0.19910679, -0.19910679, -0.19910679, -0.19910679,\n        -0.22146595, -0.22146595, -0.22146595, -0.22146595, -0.22146595,\n        -0.26949845, -0.26949845, -0.26949845, -0.26949845, -0.26949845,\n        -0.20291662, -0.20291662, -0.20291662, -0.20291662, -0.20291662,\n        -0.26481202, -0.26481202, -0.26481202, -0.26481202, -0.26481202,\n        -0.2533061 , -0.2533061 , -0.2533061 , -0.2533061 , -0.2533061 ,\n        -0.25658019, -0.25658019, -0.25658019, -0.25658019, -0.25658019,\n        -0.26198624, -0.26198624, -0.26198624, -0.26198624, -0.26198624,\n        -0.27137556, -0.27137556, -0.27137556, -0.27137556, -0.27137556,\n        -0.27310969, -0.27310969, -0.27310969, -0.27310969, -0.27310969,\n        -0.27495667, -0.27495667, -0.27495667, -0.27495667, -0.27495667,\n        -0.27170882, -0.27170882, -0.27170882, -0.27170882, -0.27170882,\n        -0.19910679, -0.19910679, -0.19910679, -0.19910679, -0.19910679,\n        -0.22146595, -0.22146595, -0.22146595, -0.22146595, -0.22146595,\n        -0.26949845, -0.26949845, -0.26949845, -0.26949845, -0.26949845,\n        -0.20291662, -0.20291662, -0.20291662, -0.20291662, -0.20291662,\n        -0.26481202, -0.26481202, -0.26481202, -0.26481202, -0.26481202,\n        -0.2533061 , -0.2533061 , -0.2533061 , -0.2533061 , -0.2533061 ,\n        -0.25658019, -0.25658019, -0.25658019, -0.25658019, -0.25658019,\n        -0.26198624, -0.26198624, -0.26198624, -0.26198624, -0.26198624,\n        -0.27137556, -0.27137556, -0.27137556, -0.27137556, -0.27137556,\n        -0.27310969, -0.27310969, -0.27310969, -0.27310969, -0.27310969,\n        -0.27495667, -0.27495667, -0.27495667, -0.27495667, -0.27495667,\n        -0.27170882, -0.27170882, -0.27170882, -0.27170882, -0.27170882,\n        -0.19910679, -0.19910679, -0.19910679, -0.19910679, -0.19910679,\n        -0.22146595, -0.22146595, -0.22146595, -0.22146595, -0.22146595,\n        -0.26949845, -0.26949845, -0.26949845, -0.26949845, -0.26949845,\n        -0.20291662, -0.20291662, -0.20291662, -0.20291662, -0.20291662,\n        -0.26481202, -0.26481202, -0.26481202, -0.26481202, -0.26481202,\n        -0.2533061 , -0.2533061 , -0.2533061 , -0.2533061 , -0.2533061 ,\n        -0.25658019, -0.25658019, -0.25658019, -0.25658019, -0.25658019,\n        -0.26198624, -0.26198624, -0.26198624, -0.26198624, -0.26198624,\n        -0.27137556, -0.27137556, -0.27137556, -0.27137556, -0.27137556,\n        -0.27310969, -0.27310969, -0.27310969, -0.27310969, -0.27310969,\n        -0.27495667, -0.27495667, -0.27495667, -0.27495667, -0.27495667,\n        -0.27170882, -0.27170882, -0.27170882, -0.27170882, -0.27170882,\n        -0.19910679, -0.19910679, -0.19910679, -0.19910679, -0.19910679,\n        -0.22146595, -0.22146595, -0.22146595, -0.22146595, -0.22146595,\n        -0.26949845, -0.26949845, -0.26949845, -0.26949845, -0.26949845,\n        -0.20291662, -0.20291662, -0.20291662, -0.20291662, -0.20291662,\n        -0.26481202, -0.26481202, -0.26481202, -0.26481202, -0.26481202,\n        -0.2533061 , -0.2533061 , -0.2533061 , -0.2533061 , -0.2533061 ,\n        -0.25658019, -0.25658019, -0.25658019, -0.25658019, -0.25658019,\n        -0.26198624, -0.26198624, -0.26198624, -0.26198624, -0.26198624,\n        -0.27137556, -0.27137556, -0.27137556, -0.27137556, -0.27137556,\n        -0.27310969, -0.27310969, -0.27310969, -0.27310969, -0.27310969,\n        -0.27495667, -0.27495667, -0.27495667, -0.27495667, -0.27495667]),\n 'split9_test_score': array([-0.20855156, -0.20855156, -0.20855156, -0.20855156, -0.20855156,\n        -0.14919435, -0.14919435, -0.14919435, -0.14919435, -0.14919435,\n        -0.10662953, -0.10662953, -0.10662953, -0.10662953, -0.10662953,\n        -0.11934664, -0.11934664, -0.11934664, -0.11934664, -0.11934664,\n        -0.11100908, -0.11100908, -0.11100908, -0.11100908, -0.11100908,\n        -0.11803146, -0.11803146, -0.11803146, -0.11803146, -0.11803146,\n        -0.1040232 , -0.1040232 , -0.1040232 , -0.1040232 , -0.1040232 ,\n        -0.10535956, -0.10535956, -0.10535956, -0.10535956, -0.10535956,\n        -0.11832262, -0.11832262, -0.11832262, -0.11832262, -0.11832262,\n        -0.11344134, -0.11344134, -0.11344134, -0.11344134, -0.11344134,\n        -0.11279347, -0.11279347, -0.11279347, -0.11279347, -0.11279347,\n        -0.11332439, -0.11332439, -0.11332439, -0.11332439, -0.11332439,\n        -0.20855156, -0.20855156, -0.20855156, -0.20855156, -0.20855156,\n        -0.14919435, -0.14919435, -0.14919435, -0.14919435, -0.14919435,\n        -0.10662953, -0.10662953, -0.10662953, -0.10662953, -0.10662953,\n        -0.11934664, -0.11934664, -0.11934664, -0.11934664, -0.11934664,\n        -0.11100908, -0.11100908, -0.11100908, -0.11100908, -0.11100908,\n        -0.11803146, -0.11803146, -0.11803146, -0.11803146, -0.11803146,\n        -0.1040232 , -0.1040232 , -0.1040232 , -0.1040232 , -0.1040232 ,\n        -0.10535956, -0.10535956, -0.10535956, -0.10535956, -0.10535956,\n        -0.11832262, -0.11832262, -0.11832262, -0.11832262, -0.11832262,\n        -0.11344134, -0.11344134, -0.11344134, -0.11344134, -0.11344134,\n        -0.11279347, -0.11279347, -0.11279347, -0.11279347, -0.11279347,\n        -0.11332439, -0.11332439, -0.11332439, -0.11332439, -0.11332439,\n        -0.20855156, -0.20855156, -0.20855156, -0.20855156, -0.20855156,\n        -0.14919435, -0.14919435, -0.14919435, -0.14919435, -0.14919435,\n        -0.10662953, -0.10662953, -0.10662953, -0.10662953, -0.10662953,\n        -0.11934664, -0.11934664, -0.11934664, -0.11934664, -0.11934664,\n        -0.11100908, -0.11100908, -0.11100908, -0.11100908, -0.11100908,\n        -0.11803146, -0.11803146, -0.11803146, -0.11803146, -0.11803146,\n        -0.1040232 , -0.1040232 , -0.1040232 , -0.1040232 , -0.1040232 ,\n        -0.10535956, -0.10535956, -0.10535956, -0.10535956, -0.10535956,\n        -0.11832262, -0.11832262, -0.11832262, -0.11832262, -0.11832262,\n        -0.11344134, -0.11344134, -0.11344134, -0.11344134, -0.11344134,\n        -0.11279347, -0.11279347, -0.11279347, -0.11279347, -0.11279347,\n        -0.11332439, -0.11332439, -0.11332439, -0.11332439, -0.11332439,\n        -0.20855156, -0.20855156, -0.20855156, -0.20855156, -0.20855156,\n        -0.14919435, -0.14919435, -0.14919435, -0.14919435, -0.14919435,\n        -0.10662953, -0.10662953, -0.10662953, -0.10662953, -0.10662953,\n        -0.11934664, -0.11934664, -0.11934664, -0.11934664, -0.11934664,\n        -0.11100908, -0.11100908, -0.11100908, -0.11100908, -0.11100908,\n        -0.11803146, -0.11803146, -0.11803146, -0.11803146, -0.11803146,\n        -0.1040232 , -0.1040232 , -0.1040232 , -0.1040232 , -0.1040232 ,\n        -0.10535956, -0.10535956, -0.10535956, -0.10535956, -0.10535956,\n        -0.11832262, -0.11832262, -0.11832262, -0.11832262, -0.11832262,\n        -0.11344134, -0.11344134, -0.11344134, -0.11344134, -0.11344134,\n        -0.11279347, -0.11279347, -0.11279347, -0.11279347, -0.11279347,\n        -0.11332439, -0.11332439, -0.11332439, -0.11332439, -0.11332439]),\n 'mean_test_score': array([-0.22025341, -0.22025341, -0.22025341, -0.22025341, -0.22025341,\n        -0.20841429, -0.20841429, -0.20841429, -0.20841429, -0.20841429,\n        -0.19236539, -0.19236539, -0.19236539, -0.19236539, -0.19236539,\n        -0.20449252, -0.20449252, -0.20449252, -0.20449252, -0.20449252,\n        -0.20051688, -0.20051688, -0.20051688, -0.20051688, -0.20051688,\n        -0.21383064, -0.21383064, -0.21383064, -0.21383064, -0.21383064,\n        -0.21656895, -0.21656895, -0.21656895, -0.21656895, -0.21656895,\n        -0.21835779, -0.21835779, -0.21835779, -0.21835779, -0.21835779,\n        -0.21872295, -0.21872295, -0.21872295, -0.21872295, -0.21872295,\n        -0.21985531, -0.21985531, -0.21985531, -0.21985531, -0.21985531,\n        -0.22055156, -0.22055156, -0.22055156, -0.22055156, -0.22055156,\n        -0.22063596, -0.22063596, -0.22063596, -0.22063596, -0.22063596,\n        -0.22025341, -0.22025341, -0.22025341, -0.22025341, -0.22025341,\n        -0.20841429, -0.20841429, -0.20841429, -0.20841429, -0.20841429,\n        -0.19236539, -0.19236539, -0.19236539, -0.19236539, -0.19236539,\n        -0.20449252, -0.20449252, -0.20449252, -0.20449252, -0.20449252,\n        -0.20051688, -0.20051688, -0.20051688, -0.20051688, -0.20051688,\n        -0.21383064, -0.21383064, -0.21383064, -0.21383064, -0.21383064,\n        -0.21656895, -0.21656895, -0.21656895, -0.21656895, -0.21656895,\n        -0.21835779, -0.21835779, -0.21835779, -0.21835779, -0.21835779,\n        -0.21872295, -0.21872295, -0.21872295, -0.21872295, -0.21872295,\n        -0.21985531, -0.21985531, -0.21985531, -0.21985531, -0.21985531,\n        -0.22055156, -0.22055156, -0.22055156, -0.22055156, -0.22055156,\n        -0.22063596, -0.22063596, -0.22063596, -0.22063596, -0.22063596,\n        -0.22025341, -0.22025341, -0.22025341, -0.22025341, -0.22025341,\n        -0.20841429, -0.20841429, -0.20841429, -0.20841429, -0.20841429,\n        -0.19236539, -0.19236539, -0.19236539, -0.19236539, -0.19236539,\n        -0.20449252, -0.20449252, -0.20449252, -0.20449252, -0.20449252,\n        -0.20051688, -0.20051688, -0.20051688, -0.20051688, -0.20051688,\n        -0.21383064, -0.21383064, -0.21383064, -0.21383064, -0.21383064,\n        -0.21656895, -0.21656895, -0.21656895, -0.21656895, -0.21656895,\n        -0.21835779, -0.21835779, -0.21835779, -0.21835779, -0.21835779,\n        -0.21872295, -0.21872295, -0.21872295, -0.21872295, -0.21872295,\n        -0.21985531, -0.21985531, -0.21985531, -0.21985531, -0.21985531,\n        -0.22055156, -0.22055156, -0.22055156, -0.22055156, -0.22055156,\n        -0.22063596, -0.22063596, -0.22063596, -0.22063596, -0.22063596,\n        -0.22025341, -0.22025341, -0.22025341, -0.22025341, -0.22025341,\n        -0.20841429, -0.20841429, -0.20841429, -0.20841429, -0.20841429,\n        -0.19236539, -0.19236539, -0.19236539, -0.19236539, -0.19236539,\n        -0.20449252, -0.20449252, -0.20449252, -0.20449252, -0.20449252,\n        -0.20051688, -0.20051688, -0.20051688, -0.20051688, -0.20051688,\n        -0.21383064, -0.21383064, -0.21383064, -0.21383064, -0.21383064,\n        -0.21656895, -0.21656895, -0.21656895, -0.21656895, -0.21656895,\n        -0.21835779, -0.21835779, -0.21835779, -0.21835779, -0.21835779,\n        -0.21872295, -0.21872295, -0.21872295, -0.21872295, -0.21872295,\n        -0.21985531, -0.21985531, -0.21985531, -0.21985531, -0.21985531,\n        -0.22055156, -0.22055156, -0.22055156, -0.22055156, -0.22055156,\n        -0.22063596, -0.22063596, -0.22063596, -0.22063596, -0.22063596]),\n 'std_test_score': array([0.03994693, 0.03994693, 0.03994693, 0.03994693, 0.03994693,\n        0.06986815, 0.06986815, 0.06986815, 0.06986815, 0.06986815,\n        0.05603728, 0.05603728, 0.05603728, 0.05603728, 0.05603728,\n        0.05939215, 0.05939215, 0.05939215, 0.05939215, 0.05939215,\n        0.05398812, 0.05398812, 0.05398812, 0.05398812, 0.05398812,\n        0.05544282, 0.05544282, 0.05544282, 0.05544282, 0.05544282,\n        0.05354424, 0.05354424, 0.05354424, 0.05354424, 0.05354424,\n        0.05256357, 0.05256357, 0.05256357, 0.05256357, 0.05256357,\n        0.04957805, 0.04957805, 0.04957805, 0.04957805, 0.04957805,\n        0.05272058, 0.05272058, 0.05272058, 0.05272058, 0.05272058,\n        0.05389687, 0.05389687, 0.05389687, 0.05389687, 0.05389687,\n        0.0537466 , 0.0537466 , 0.0537466 , 0.0537466 , 0.0537466 ,\n        0.03994693, 0.03994693, 0.03994693, 0.03994693, 0.03994693,\n        0.06986815, 0.06986815, 0.06986815, 0.06986815, 0.06986815,\n        0.05603728, 0.05603728, 0.05603728, 0.05603728, 0.05603728,\n        0.05939215, 0.05939215, 0.05939215, 0.05939215, 0.05939215,\n        0.05398812, 0.05398812, 0.05398812, 0.05398812, 0.05398812,\n        0.05544282, 0.05544282, 0.05544282, 0.05544282, 0.05544282,\n        0.05354424, 0.05354424, 0.05354424, 0.05354424, 0.05354424,\n        0.05256357, 0.05256357, 0.05256357, 0.05256357, 0.05256357,\n        0.04957805, 0.04957805, 0.04957805, 0.04957805, 0.04957805,\n        0.05272058, 0.05272058, 0.05272058, 0.05272058, 0.05272058,\n        0.05389687, 0.05389687, 0.05389687, 0.05389687, 0.05389687,\n        0.0537466 , 0.0537466 , 0.0537466 , 0.0537466 , 0.0537466 ,\n        0.03994693, 0.03994693, 0.03994693, 0.03994693, 0.03994693,\n        0.06986815, 0.06986815, 0.06986815, 0.06986815, 0.06986815,\n        0.05603728, 0.05603728, 0.05603728, 0.05603728, 0.05603728,\n        0.05939215, 0.05939215, 0.05939215, 0.05939215, 0.05939215,\n        0.05398812, 0.05398812, 0.05398812, 0.05398812, 0.05398812,\n        0.05544282, 0.05544282, 0.05544282, 0.05544282, 0.05544282,\n        0.05354424, 0.05354424, 0.05354424, 0.05354424, 0.05354424,\n        0.05256357, 0.05256357, 0.05256357, 0.05256357, 0.05256357,\n        0.04957805, 0.04957805, 0.04957805, 0.04957805, 0.04957805,\n        0.05272058, 0.05272058, 0.05272058, 0.05272058, 0.05272058,\n        0.05389687, 0.05389687, 0.05389687, 0.05389687, 0.05389687,\n        0.0537466 , 0.0537466 , 0.0537466 , 0.0537466 , 0.0537466 ,\n        0.03994693, 0.03994693, 0.03994693, 0.03994693, 0.03994693,\n        0.06986815, 0.06986815, 0.06986815, 0.06986815, 0.06986815,\n        0.05603728, 0.05603728, 0.05603728, 0.05603728, 0.05603728,\n        0.05939215, 0.05939215, 0.05939215, 0.05939215, 0.05939215,\n        0.05398812, 0.05398812, 0.05398812, 0.05398812, 0.05398812,\n        0.05544282, 0.05544282, 0.05544282, 0.05544282, 0.05544282,\n        0.05354424, 0.05354424, 0.05354424, 0.05354424, 0.05354424,\n        0.05256357, 0.05256357, 0.05256357, 0.05256357, 0.05256357,\n        0.04957805, 0.04957805, 0.04957805, 0.04957805, 0.04957805,\n        0.05272058, 0.05272058, 0.05272058, 0.05272058, 0.05272058,\n        0.05389687, 0.05389687, 0.05389687, 0.05389687, 0.05389687,\n        0.0537466 , 0.0537466 , 0.0537466 , 0.0537466 , 0.0537466 ]),\n 'rank_test_score': array([181, 181, 181, 181, 181,  61,  61,  61,  61,  61,   1,   1,   1,\n          1,   1,  41,  41,  41,  41,  41,  21,  21,  21,  21,  21,  81,\n         81,  81,  81,  81, 101, 101, 101, 101, 101, 121, 121, 121, 121,\n        121, 141, 141, 141, 141, 141, 161, 161, 161, 161, 161, 201, 201,\n        201, 201, 201, 221, 221, 221, 221, 221, 181, 181, 181, 181, 181,\n         61,  61,  61,  61,  61,   1,   1,   1,   1,   1,  41,  41,  41,\n         41,  41,  21,  21,  21,  21,  21,  81,  81,  81,  81,  81, 101,\n        101, 101, 101, 101, 121, 121, 121, 121, 121, 141, 141, 141, 141,\n        141, 161, 161, 161, 161, 161, 201, 201, 201, 201, 201, 221, 221,\n        221, 221, 221, 181, 181, 181, 181, 181,  61,  61,  61,  61,  61,\n          1,   1,   1,   1,   1,  41,  41,  41,  41,  41,  21,  21,  21,\n         21,  21,  81,  81,  81,  81,  81, 101, 101, 101, 101, 101, 121,\n        121, 121, 121, 121, 141, 141, 141, 141, 141, 161, 161, 161, 161,\n        161, 201, 201, 201, 201, 201, 221, 221, 221, 221, 221, 181, 181,\n        181, 181, 181,  61,  61,  61,  61,  61,   1,   1,   1,   1,   1,\n         41,  41,  41,  41,  41,  21,  21,  21,  21,  21,  81,  81,  81,\n         81,  81, 101, 101, 101, 101, 101, 121, 121, 121, 121, 121, 141,\n        141, 141, 141, 141, 161, 161, 161, 161, 161, 201, 201, 201, 201,\n        201, 221, 221, 221, 221, 221], dtype=int32)}"
     },
     "execution_count": 39,
     "metadata": {},
     "output_type": "execute_result"
    }
   ],
   "source": [
    "grid_search.cv_results_"
   ],
   "metadata": {
    "collapsed": false,
    "ExecuteTime": {
     "end_time": "2025-01-20T02:48:00.721257300Z",
     "start_time": "2025-01-20T02:48:00.648985900Z"
    }
   }
  },
  {
   "cell_type": "code",
   "execution_count": null,
   "outputs": [
    {
     "data": {
      "text/plain": "<Figure size 800x600 with 1 Axes>",
      "image/png": "[encoded data removed]"
     },
     "metadata": {},
     "output_type": "display_data"
    },
    {
     "name": "stdout",
     "output_type": "stream",
     "text": [
      "Best n_components: 3\n",
      "Best cross-validation score: -0.1924\n"
     ]
    }
   ],
   "source": [
    "\n",
    "# Get the cross-validation results as a DataFrame\n",
    "results = pd.DataFrame(grid_search.cv_results_)\n",
    "\n",
    "# Sort rows by n_components (sometimes helpful for clean plotting)\n",
    "results = results.sort_values(by='param_n_components')\n",
    "\n",
    "# Extract the parameter values, mean test score, and std test score\n",
    "n_comps = results['param_n_components']\n",
    "mean_scores = results['mean_test_score']\n",
    "std_scores = results['std_test_score']\n",
    "\n",
    "# Plot mean CV score against n_components\n",
    "plt.figure(figsize=(8, 6))\n",
    "plt.errorbar(\n",
    "    n_comps,\n",
    "    mean_scores,\n",
    "    yerr=std_scores,\n",
    "    fmt='-o',\n",
    "    capsize=5,\n",
    "    label='Mean CV Score ± 1 Std. Dev.'\n",
    ")\n",
    "plt.xlabel('Number of PLS Components (n_components)')\n",
    "plt.ylabel('Mean CV R² Score')\n",
    "plt.title('PLS n_components vs. CV R² Score')\n",
    "plt.legend()\n",
    "plt.show()\n",
    "\n",
    "print(f\"Best n_components: {grid_search.best_params_['n_components']}\")\n",
    "print(f\"Best cross-validation score: {grid_search.best_score_:.4f}\")"
   ],
   "metadata": {
    "collapsed": false,
    "ExecuteTime": {
     "end_time": "2025-01-20T02:48:00.839262700Z",
     "start_time": "2025-01-20T02:48:00.705554700Z"
    }
   }
  },
  {
   "cell_type": "code",
   "execution_count": null,
   "outputs": [
    {
     "data": {
      "text/plain": "     mean_fit_time  std_fit_time  mean_score_time  std_score_time  \\\n0         0.023260      0.003853         0.012229        0.003285   \n1         0.019196      0.004499         0.012677        0.008236   \n2         0.046930      0.030232         0.025633        0.022233   \n3         0.026406      0.026116         0.028024        0.051989   \n4         0.029227      0.013174         0.014255        0.004570   \n..             ...           ...              ...             ...   \n235       0.040751      0.004086         0.012179        0.002685   \n236       0.041752      0.004340         0.010728        0.003410   \n237       0.043003      0.002673         0.010258        0.000780   \n238       0.050242      0.011169         0.011057        0.003042   \n239       0.041931      0.003667         0.010553        0.003413   \n\n     param_max_iter  param_n_components     param_tol  \\\n0               500                   1  1.000000e-09   \n1               500                   1  1.000000e-10   \n2               500                   1  1.000000e-11   \n3               500                   1  1.000000e-12   \n4               500                   1  1.000000e-13   \n..              ...                 ...           ...   \n235           10000                  12  1.000000e-09   \n236           10000                  12  1.000000e-10   \n237           10000                  12  1.000000e-11   \n238           10000                  12  1.000000e-12   \n239           10000                  12  1.000000e-13   \n\n                                                params  split0_test_score  \\\n0    {'max_iter': 500, 'n_components': 1, 'tol': 1e...          -0.195042   \n1    {'max_iter': 500, 'n_components': 1, 'tol': 1e...          -0.195042   \n2    {'max_iter': 500, 'n_components': 1, 'tol': 1e...          -0.195042   \n3    {'max_iter': 500, 'n_components': 1, 'tol': 1e...          -0.195042   \n4    {'max_iter': 500, 'n_components': 1, 'tol': 1e...          -0.195042   \n..                                                 ...                ...   \n235  {'max_iter': 10000, 'n_components': 12, 'tol':...          -0.178563   \n236  {'max_iter': 10000, 'n_components': 12, 'tol':...          -0.178563   \n237  {'max_iter': 10000, 'n_components': 12, 'tol':...          -0.178563   \n238  {'max_iter': 10000, 'n_components': 12, 'tol':...          -0.178563   \n239  {'max_iter': 10000, 'n_components': 12, 'tol':...          -0.178563   \n\n     split1_test_score  ...  split3_test_score  split4_test_score  \\\n0            -0.253769  ...          -0.269490          -0.237121   \n1            -0.253769  ...          -0.269490          -0.237121   \n2            -0.253769  ...          -0.269490          -0.237121   \n3            -0.253769  ...          -0.269490          -0.237121   \n4            -0.253769  ...          -0.269490          -0.237121   \n..                 ...  ...                ...                ...   \n235          -0.286981  ...          -0.290764          -0.248697   \n236          -0.286981  ...          -0.290764          -0.248697   \n237          -0.286981  ...          -0.290764          -0.248697   \n238          -0.286981  ...          -0.290764          -0.248697   \n239          -0.286981  ...          -0.290764          -0.248697   \n\n     split5_test_score  split6_test_score  split7_test_score  \\\n0            -0.254217          -0.162240          -0.183141   \n1            -0.254217          -0.162240          -0.183141   \n2            -0.254217          -0.162240          -0.183141   \n3            -0.254217          -0.162240          -0.183141   \n4            -0.254217          -0.162240          -0.183141   \n..                 ...                ...                ...   \n235          -0.199368          -0.220192          -0.174960   \n236          -0.199368          -0.220192          -0.174960   \n237          -0.199368          -0.220192          -0.174960   \n238          -0.199368          -0.220192          -0.174960   \n239          -0.199368          -0.220192          -0.174960   \n\n     split8_test_score  split9_test_score  mean_test_score  std_test_score  \\\n0            -0.271709          -0.208552        -0.220253        0.039947   \n1            -0.271709          -0.208552        -0.220253        0.039947   \n2            -0.271709          -0.208552        -0.220253        0.039947   \n3            -0.271709          -0.208552        -0.220253        0.039947   \n4            -0.271709          -0.208552        -0.220253        0.039947   \n..                 ...                ...              ...             ...   \n235          -0.274957          -0.113324        -0.220636        0.053747   \n236          -0.274957          -0.113324        -0.220636        0.053747   \n237          -0.274957          -0.113324        -0.220636        0.053747   \n238          -0.274957          -0.113324        -0.220636        0.053747   \n239          -0.274957          -0.113324        -0.220636        0.053747   \n\n     rank_test_score  \n0                181  \n1                181  \n2                181  \n3                181  \n4                181  \n..               ...  \n235              221  \n236              221  \n237              221  \n238              221  \n239              221  \n\n[240 rows x 21 columns]",
      "text/html": "<div>\n<style scoped>\n    .dataframe tbody tr th:only-of-type {\n        vertical-align: middle;\n    }\n\n    .dataframe tbody tr th {\n        vertical-align: top;\n    }\n\n    .dataframe thead th {\n        text-align: right;\n    }\n</style>\n<table border=\"1\" class=\"dataframe\">\n  <thead>\n    <tr style=\"text-align: right;\">\n      <th></th>\n      <th>mean_fit_time</th>\n      <th>std_fit_time</th>\n      <th>mean_score_time</th>\n      <th>std_score_time</th>\n      <th>param_max_iter</th>\n      <th>param_n_components</th>\n      <th>param_tol</th>\n      <th>params</th>\n      <th>split0_test_score</th>\n      <th>split1_test_score</th>\n      <th>...</th>\n      <th>split3_test_score</th>\n      <th>split4_test_score</th>\n      <th>split5_test_score</th>\n      <th>split6_test_score</th>\n      <th>split7_test_score</th>\n      <th>split8_test_score</th>\n      <th>split9_test_score</th>\n      <th>mean_test_score</th>\n      <th>std_test_score</th>\n      <th>rank_test_score</th>\n    </tr>\n  </thead>\n  <tbody>\n    <tr>\n      <th>0</th>\n      <td>0.023260</td>\n      <td>0.003853</td>\n      <td>0.012229</td>\n      <td>0.003285</td>\n      <td>500</td>\n      <td>1</td>\n      <td>1.000000e-09</td>\n      <td>{'max_iter': 500, 'n_components': 1, 'tol': 1e...</td>\n      <td>-0.195042</td>\n      <td>-0.253769</td>\n      <td>...</td>\n      <td>-0.269490</td>\n      <td>-0.237121</td>\n      <td>-0.254217</td>\n      <td>-0.162240</td>\n      <td>-0.183141</td>\n      <td>-0.271709</td>\n      <td>-0.208552</td>\n      <td>-0.220253</td>\n      <td>0.039947</td>\n      <td>181</td>\n    </tr>\n    <tr>\n      <th>1</th>\n      <td>0.019196</td>\n      <td>0.004499</td>\n      <td>0.012677</td>\n      <td>0.008236</td>\n      <td>500</td>\n      <td>1</td>\n      <td>1.000000e-10</td>\n      <td>{'max_iter': 500, 'n_components': 1, 'tol': 1e...</td>\n      <td>-0.195042</td>\n      <td>-0.253769</td>\n      <td>...</td>\n      <td>-0.269490</td>\n      <td>-0.237121</td>\n      <td>-0.254217</td>\n      <td>-0.162240</td>\n      <td>-0.183141</td>\n      <td>-0.271709</td>\n      <td>-0.208552</td>\n      <td>-0.220253</td>\n      <td>0.039947</td>\n      <td>181</td>\n    </tr>\n    <tr>\n      <th>2</th>\n      <td>0.046930</td>\n      <td>0.030232</td>\n      <td>0.025633</td>\n      <td>0.022233</td>\n      <td>500</td>\n      <td>1</td>\n      <td>1.000000e-11</td>\n      <td>{'max_iter': 500, 'n_components': 1, 'tol': 1e...</td>\n      <td>-0.195042</td>\n      <td>-0.253769</td>\n      <td>...</td>\n      <td>-0.269490</td>\n      <td>-0.237121</td>\n      <td>-0.254217</td>\n      <td>-0.162240</td>\n      <td>-0.183141</td>\n      <td>-0.271709</td>\n      <td>-0.208552</td>\n      <td>-0.220253</td>\n      <td>0.039947</td>\n      <td>181</td>\n    </tr>\n    <tr>\n      <th>3</th>\n      <td>0.026406</td>\n      <td>0.026116</td>\n      <td>0.028024</td>\n      <td>0.051989</td>\n      <td>500</td>\n      <td>1</td>\n      <td>1.000000e-12</td>\n      <td>{'max_iter': 500, 'n_components': 1, 'tol': 1e...</td>\n      <td>-0.195042</td>\n      <td>-0.253769</td>\n      <td>...</td>\n      <td>-0.269490</td>\n      <td>-0.237121</td>\n      <td>-0.254217</td>\n      <td>-0.162240</td>\n      <td>-0.183141</td>\n      <td>-0.271709</td>\n      <td>-0.208552</td>\n      <td>-0.220253</td>\n      <td>0.039947</td>\n      <td>181</td>\n    </tr>\n    <tr>\n      <th>4</th>\n      <td>0.029227</td>\n      <td>0.013174</td>\n      <td>0.014255</td>\n      <td>0.004570</td>\n      <td>500</td>\n      <td>1</td>\n      <td>1.000000e-13</td>\n      <td>{'max_iter': 500, 'n_components': 1, 'tol': 1e...</td>\n      <td>-0.195042</td>\n      <td>-0.253769</td>\n      <td>...</td>\n      <td>-0.269490</td>\n      <td>-0.237121</td>\n      <td>-0.254217</td>\n      <td>-0.162240</td>\n      <td>-0.183141</td>\n      <td>-0.271709</td>\n      <td>-0.208552</td>\n      <td>-0.220253</td>\n      <td>0.039947</td>\n      <td>181</td>\n    </tr>\n    <tr>\n      <th>...</th>\n      <td>...</td>\n      <td>...</td>\n      <td>...</td>\n      <td>...</td>\n      <td>...</td>\n      <td>...</td>\n      <td>...</td>\n      <td>...</td>\n      <td>...</td>\n      <td>...</td>\n      <td>...</td>\n      <td>...</td>\n      <td>...</td>\n      <td>...</td>\n      <td>...</td>\n      <td>...</td>\n      <td>...</td>\n      <td>...</td>\n      <td>...</td>\n      <td>...</td>\n      <td>...</td>\n    </tr>\n    <tr>\n      <th>235</th>\n      <td>0.040751</td>\n      <td>0.004086</td>\n      <td>0.012179</td>\n      <td>0.002685</td>\n      <td>10000</td>\n      <td>12</td>\n      <td>1.000000e-09</td>\n      <td>{'max_iter': 10000, 'n_components': 12, 'tol':...</td>\n      <td>-0.178563</td>\n      <td>-0.286981</td>\n      <td>...</td>\n      <td>-0.290764</td>\n      <td>-0.248697</td>\n      <td>-0.199368</td>\n      <td>-0.220192</td>\n      <td>-0.174960</td>\n      <td>-0.274957</td>\n      <td>-0.113324</td>\n      <td>-0.220636</td>\n      <td>0.053747</td>\n      <td>221</td>\n    </tr>\n    <tr>\n      <th>236</th>\n      <td>0.041752</td>\n      <td>0.004340</td>\n      <td>0.010728</td>\n      <td>0.003410</td>\n      <td>10000</td>\n      <td>12</td>\n      <td>1.000000e-10</td>\n      <td>{'max_iter': 10000, 'n_components': 12, 'tol':...</td>\n      <td>-0.178563</td>\n      <td>-0.286981</td>\n      <td>...</td>\n      <td>-0.290764</td>\n      <td>-0.248697</td>\n      <td>-0.199368</td>\n      <td>-0.220192</td>\n      <td>-0.174960</td>\n      <td>-0.274957</td>\n      <td>-0.113324</td>\n      <td>-0.220636</td>\n      <td>0.053747</td>\n      <td>221</td>\n    </tr>\n    <tr>\n      <th>237</th>\n      <td>0.043003</td>\n      <td>0.002673</td>\n      <td>0.010258</td>\n      <td>0.000780</td>\n      <td>10000</td>\n      <td>12</td>\n      <td>1.000000e-11</td>\n      <td>{'max_iter': 10000, 'n_components': 12, 'tol':...</td>\n      <td>-0.178563</td>\n      <td>-0.286981</td>\n      <td>...</td>\n      <td>-0.290764</td>\n      <td>-0.248697</td>\n      <td>-0.199368</td>\n      <td>-0.220192</td>\n      <td>-0.174960</td>\n      <td>-0.274957</td>\n      <td>-0.113324</td>\n      <td>-0.220636</td>\n      <td>0.053747</td>\n      <td>221</td>\n    </tr>\n    <tr>\n      <th>238</th>\n      <td>0.050242</td>\n      <td>0.011169</td>\n      <td>0.011057</td>\n      <td>0.003042</td>\n      <td>10000</td>\n      <td>12</td>\n      <td>1.000000e-12</td>\n      <td>{'max_iter': 10000, 'n_components': 12, 'tol':...</td>\n      <td>-0.178563</td>\n      <td>-0.286981</td>\n      <td>...</td>\n      <td>-0.290764</td>\n      <td>-0.248697</td>\n      <td>-0.199368</td>\n      <td>-0.220192</td>\n      <td>-0.174960</td>\n      <td>-0.274957</td>\n      <td>-0.113324</td>\n      <td>-0.220636</td>\n      <td>0.053747</td>\n      <td>221</td>\n    </tr>\n    <tr>\n      <th>239</th>\n      <td>0.041931</td>\n      <td>0.003667</td>\n      <td>0.010553</td>\n      <td>0.003413</td>\n      <td>10000</td>\n      <td>12</td>\n      <td>1.000000e-13</td>\n      <td>{'max_iter': 10000, 'n_components': 12, 'tol':...</td>\n      <td>-0.178563</td>\n      <td>-0.286981</td>\n      <td>...</td>\n      <td>-0.290764</td>\n      <td>-0.248697</td>\n      <td>-0.199368</td>\n      <td>-0.220192</td>\n      <td>-0.174960</td>\n      <td>-0.274957</td>\n      <td>-0.113324</td>\n      <td>-0.220636</td>\n      <td>0.053747</td>\n      <td>221</td>\n    </tr>\n  </tbody>\n</table>\n<p>240 rows × 21 columns</p>\n</div>"
     },
     "execution_count": 41,
     "metadata": {},
     "output_type": "execute_result"
    }
   ],
   "source": [
    "results"
   ],
   "metadata": {
    "collapsed": false,
    "ExecuteTime": {
     "end_time": "2025-01-20T02:48:00.863814300Z",
     "start_time": "2025-01-20T02:48:00.859473400Z"
    }
   }
  },
  {
   "cell_type": "code",
   "execution_count": null,
   "outputs": [],
   "source": [
    "# Identify columns like 'split0_test_score', 'split1_test_score', etc.\n",
    "split_columns = [col for col in results.columns\n",
    "                 if col.startswith('split') and col.endswith('_test_score')]\n",
    "\n",
    "# Count how many folds each n_components \"wins\"\n",
    "fold_wins = {nc: 0 for nc in param_grid['n_components']}\n",
    "n_folds = len(split_columns)\n",
    "\n",
    "for fold_col in split_columns:\n",
    "    # idx of param setting with the best score in this particular fold\n",
    "    best_idx = results[fold_col].idxmax()\n",
    "    # The winning n_components for this fold\n",
    "    best_nc = results.loc[best_idx, 'param_n_components']\n",
    "    fold_wins[best_nc] += 1\n",
    "\n",
    "# Convert counts to proportions (fold_wins[ nc ] / number_of_folds)\n",
    "win_proportions = {nc: fold_wins[nc] / n_folds for nc in fold_wins}\n",
    "\n",
    "# Reorder these proportions to match the order of n_comps in 'results'\n",
    "proportions_ordered = [win_proportions[nc] for nc in n_comps]"
   ],
   "metadata": {
    "collapsed": false,
    "ExecuteTime": {
     "end_time": "2025-01-20T02:48:00.971581700Z",
     "start_time": "2025-01-20T02:48:00.869895400Z"
    }
   }
  },
  {
   "cell_type": "code",
   "execution_count": null,
   "outputs": [
    {
     "data": {
      "text/plain": "<Figure size 800x600 with 2 Axes>",
      "image/png": "[encoded data removed]"
     },
     "metadata": {},
     "output_type": "display_data"
    }
   ],
   "source": [
    "fig, ax1 = plt.subplots(figsize=(8, 6))\n",
    "\n",
    "# 1) Left axis: Mean CV R^2 with error bars\n",
    "color_left = 'tab:blue'\n",
    "ax1.errorbar(\n",
    "    n_comps,\n",
    "    mean_scores,\n",
    "    yerr=std_scores,\n",
    "    fmt='-o',\n",
    "    capsize=5,\n",
    "    color=color_left,\n",
    "    label='Mean CV Score ± 1 Std. Dev.'\n",
    ")\n",
    "ax1.set_xlabel('Number of PLS Components (n_components)')\n",
    "ax1.set_ylabel('Mean CV R² Score', color=color_left)\n",
    "ax1.tick_params(axis='y', labelcolor=color_left)\n",
    "\n",
    "# 2) Right axis: Bar chart of \"proportion of folds with best score\"\n",
    "ax2 = ax1.twinx()  # create a twin Axes sharing the x-axis\n",
    "color_right = 'tab:red'\n",
    "\n",
    "# Bar chart\n",
    "ax2.bar(\n",
    "    n_comps,\n",
    "    proportions_ordered,\n",
    "    color=color_right,\n",
    "    alpha=0.3,       # slightly transparent so we can see the line behind\n",
    "    label='Fold Win Proportion'\n",
    ")\n",
    "ax2.set_ylabel('Proportion of Folds with Best Score', color=color_right)\n",
    "ax2.tick_params(axis='y', labelcolor=color_right)\n",
    "ax2.set_ylim(0, 1.1)  # ensure space above the tallest bar\n",
    "\n",
    "# Combine legends from both axes, if desired\n",
    "lines_labels_1 = ax1.get_legend_handles_labels()\n",
    "lines_labels_2 = ax2.get_legend_handles_labels()\n",
    "ax2.legend(\n",
    "    lines_labels_1[0] + lines_labels_2[0],\n",
    "    lines_labels_1[1] + lines_labels_2[1],\n",
    "    loc='best'\n",
    ")\n",
    "\n",
    "plt.title('PLS n_components vs. CV R² Score & Fold Win Proportion')\n",
    "plt.show()\n"
   ],
   "metadata": {
    "collapsed": false,
    "ExecuteTime": {
     "end_time": "2025-01-20T02:48:01.286982400Z",
     "start_time": "2025-01-20T02:48:00.876070600Z"
    }
   }
  },
  {
   "cell_type": "code",
   "execution_count": null,
   "outputs": [
    {
     "data": {
      "text/plain": "{'copy': True, 'max_iter': 500, 'n_components': 2, 'scale': True, 'tol': 1e-06}"
     },
     "execution_count": 44,
     "metadata": {},
     "output_type": "execute_result"
    }
   ],
   "source": [
    "pls.get_params()"
   ],
   "metadata": {
    "collapsed": false,
    "ExecuteTime": {
     "end_time": "2025-01-20T02:48:01.295680900Z",
     "start_time": "2025-01-20T02:48:01.287464700Z"
    }
   }
  },
  {
   "cell_type": "code",
   "execution_count": 47,
   "outputs": [
    {
     "data": {
      "text/plain": "<Figure size 800x600 with 1 Axes>",
      "image/png": "[encoded data removed]"
     },
     "metadata": {},
     "output_type": "display_data"
    }
   ],
   "source": [
    "fig, ax1 = plt.subplots(figsize=(8, 6))\n",
    "\n",
    "# 1) Left axis: Mean CV R^2 with error bars\n",
    "color_left = 'tab:blue'\n",
    "ax1.errorbar(\n",
    "    n_comps,\n",
    "    mean_scores,\n",
    "    yerr=std_scores,\n",
    "    fmt='-o',\n",
    "    capsize=5,\n",
    "    color=color_left,\n",
    "    label='Mean CV Score ± 1 Std. Dev.'\n",
    ")\n",
    "ax1.set_xlabel('Number of PLS Components (n_components)')\n",
    "ax1.set_ylabel('Mean CV R² Score', color=color_left)\n",
    "ax1.tick_params(axis='y', labelcolor=color_left)\n",
    "\n",
    "plt.show()\n"
   ],
   "metadata": {
    "collapsed": false,
    "ExecuteTime": {
     "end_time": "2025-01-20T02:49:42.272146700Z",
     "start_time": "2025-01-20T02:49:42.167050100Z"
    }
   }
  }
 ],
 "metadata": {
  "kernelspec": {
   "display_name": "Python 3",
   "language": "python",
   "name": "python3"
  },
  "language_info": {
   "codemirror_mode": {
    "name": "ipython",
    "version": 2
   },
   "file_extension": ".py",
   "mimetype": "text/x-python",
   "name": "python",
   "nbconvert_exporter": "python",
   "pygments_lexer": "ipython2",
   "version": "2.7.6"
  }
 },
 "nbformat": 4,
 "nbformat_minor": 0
}
